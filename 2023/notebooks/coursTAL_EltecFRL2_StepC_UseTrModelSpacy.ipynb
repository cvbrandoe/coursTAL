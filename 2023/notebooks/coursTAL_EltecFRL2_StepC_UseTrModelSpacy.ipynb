{
  "nbformat": 4,
  "nbformat_minor": 0,
  "metadata": {
    "colab": {
      "provenance": []
    },
    "kernelspec": {
      "name": "python3",
      "display_name": "Python 3"
    },
    "language_info": {
      "name": "python"
    },
    "accelerator": "GPU"
  },
  "cells": [
    {
      "cell_type": "markdown",
      "source": [
        "## APPLY BEST MODEL"
      ],
      "metadata": {
        "id": "SD__O2V4EjHw"
      }
    },
    {
      "cell_type": "code",
      "source": [
        "!git clone https://github.com/cvbrandoe/coursTAL.git"
      ],
      "metadata": {
        "id": "D0gL1IufCZ6s"
      },
      "execution_count": null,
      "outputs": []
    },
    {
      "cell_type": "code",
      "source": [
        "!pip install -U spacy\n",
        "!python -m spacy info"
      ],
      "metadata": {
        "id": "AZRdv6YteqH8"
      },
      "execution_count": null,
      "outputs": []
    },
    {
      "cell_type": "code",
      "source": [
        "import pandas as pd\n",
        "import spacy, glob\n",
        "\n",
        "directory_model = \"coursTAL/2023/training/model-best\" \n",
        "directory_txt_all = \"coursTAL/2023/EltecFRTxt\"\n",
        "\n",
        "nlp_ner = spacy.load(directory_model)\n",
        "dico = dict()\n",
        "\n",
        "for filename in glob.glob(directory_txt_all+'/*.txt'):\n",
        "  with open (filename, \"r\", encoding=\"utf_8\") as myfile:\n",
        "    lst = []\n",
        "    nbper, nbloc, nborg, nbmisc = 0, 0, 0, 0\n",
        "    for p in myfile:\n",
        "      print(p)\n",
        "      doc_test = nlp_ner(p)\n",
        "      if(doc_test.ents):\n",
        "        print(doc_test.ents)\n",
        "        nbper = nbper + sum(x.label_ == 'PER' for x in doc_test.ents)\n",
        "        print(nbper)\n",
        "        nbloc = nbloc + sum(x.label_ == 'LOC' for x in doc_test.ents)\n",
        "        print(nbloc)\n",
        "        nborg = nborg + sum(x.label_ == 'ORG' for x in doc_test.ents)\n",
        "        print(nborg)\n",
        "        nbmisc = nbmisc + sum(x.label_ == 'MISC' for x in doc_test.ents)\n",
        "        print(nbmisc)\n",
        "    dico[filename] = [nbper, nbloc, nborg, nbmisc]\n",
        "                 \n",
        "print (dico)\n"
      ],
      "metadata": {
        "id": "WIboT-raIcVn"
      },
      "execution_count": null,
      "outputs": []
    },
    {
      "cell_type": "code",
      "source": [
        "import csv\n",
        "\n",
        "with open('NEcount.csv', 'w', newline='') as csvfile:\n",
        "    fieldnames = ['filename', 'PER', 'LOC', 'ORG', 'MISC']\n",
        "    writer = csv.DictWriter(csvfile, fieldnames=fieldnames)\n",
        "    writer.writeheader()\n",
        "    for key in dico:\n",
        "        writer.writerow({'filename': key, 'PER': dico[key][0], 'LOC': dico[key][1], 'ORG': dico[key][2], 'MISC': dico[key][3]})"
      ],
      "metadata": {
        "id": "U-Av4Ek2kf4d"
      },
      "execution_count": null,
      "outputs": []
    }
  ]
}