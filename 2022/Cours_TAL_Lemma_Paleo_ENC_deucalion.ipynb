{
  "cells": [
    {
      "cell_type": "markdown",
      "metadata": {
        "id": "ikV5RPFPB6u0"
      },
      "source": [
        "**Lemmatiseur pour les langues anciennes** \n",
        "\n",
        "Modèles et bibliothèque Python : https://github.com/hipster-philology/nlp-pie-taggers \n",
        "\n",
        "Demo : https://dh.chartes.psl.eu/deucalion/ "
      ]
    },
    {
      "cell_type": "code",
      "source": [
        "!pip install pie-extended"
      ],
      "metadata": {
        "colab": {
          "base_uri": "https://localhost:8080/",
          "height": 1000
        },
        "id": "oB0WztSJCCSO",
        "outputId": "2f28bedb-2733-498d-b572-80c77655d0bb"
      },
      "execution_count": 1,
      "outputs": [
        {
          "output_type": "stream",
          "name": "stdout",
          "text": [
            "Looking in indexes: https://pypi.org/simple, https://us-python.pkg.dev/colab-wheels/public/simple/\n",
            "Collecting pie-extended\n",
            "  Downloading pie_extended-0.0.41-py2.py3-none-any.whl (68 kB)\n",
            "\u001b[K     |████████████████████████████████| 68 kB 2.0 MB/s \n",
            "\u001b[?25hCollecting numpy<1.18.0\n",
            "  Downloading numpy-1.17.5-cp38-cp38-manylinux1_x86_64.whl (20.5 MB)\n",
            "\u001b[K     |████████████████████████████████| 20.5 MB 1.2 MB/s \n",
            "\u001b[?25hCollecting PaPie==0.3.9\n",
            "  Downloading PaPie-0.3.9-py2.py3-none-any.whl (85 kB)\n",
            "\u001b[K     |████████████████████████████████| 85 kB 2.4 MB/s \n",
            "\u001b[?25hCollecting colorama>=0.4.4\n",
            "  Downloading colorama-0.4.6-py2.py3-none-any.whl (25 kB)\n",
            "Collecting requests>=2.25.0\n",
            "  Downloading requests-2.28.1-py3-none-any.whl (62 kB)\n",
            "\u001b[K     |████████████████████████████████| 62 kB 543 kB/s \n",
            "\u001b[?25hCollecting unidecode>=1.1.1\n",
            "  Downloading Unidecode-1.3.6-py3-none-any.whl (235 kB)\n",
            "\u001b[K     |████████████████████████████████| 235 kB 23.9 MB/s \n",
            "\u001b[?25hRequirement already satisfied: click<8.0,>=7.0 in /usr/local/lib/python3.8/dist-packages (from pie-extended) (7.1.2)\n",
            "Collecting scipy<1.6.0\n",
            "  Downloading scipy-1.5.4-cp38-cp38-manylinux1_x86_64.whl (25.8 MB)\n",
            "\u001b[K     |████████████████████████████████| 25.8 MB 2.2 MB/s \n",
            "\u001b[?25hCollecting autodisambiguator<1.0.0,>=0.0.1\n",
            "  Downloading autodisambiguator-0.0.1-py2.py3-none-any.whl (11 kB)\n",
            "Requirement already satisfied: regex in /usr/local/lib/python3.8/dist-packages (from pie-extended) (2022.6.2)\n",
            "Requirement already satisfied: tqdm>=4.23.3 in /usr/local/lib/python3.8/dist-packages (from PaPie==0.3.9->pie-extended) (4.64.1)\n",
            "Collecting pyyaml==5.1b3\n",
            "  Downloading PyYAML-5.1b3.tar.gz (273 kB)\n",
            "\u001b[K     |████████████████████████████████| 273 kB 67.7 MB/s \n",
            "\u001b[?25hCollecting torch<=1.7.1,>=1.3.1\n",
            "  Downloading torch-1.7.1-cp38-cp38-manylinux1_x86_64.whl (776.8 MB)\n",
            "\u001b[K     |████████████████████████████████| 776.8 MB 5.3 kB/s \n",
            "\u001b[?25hCollecting terminaltables==3.1.0\n",
            "  Downloading terminaltables-3.1.0.tar.gz (12 kB)\n",
            "Collecting typing<4.0\n",
            "  Downloading typing-3.7.4.3.tar.gz (78 kB)\n",
            "\u001b[K     |████████████████████████████████| 78 kB 7.5 MB/s \n",
            "\u001b[?25hRequirement already satisfied: termcolor>=1.1.0 in /usr/local/lib/python3.8/dist-packages (from PaPie==0.3.9->pie-extended) (2.1.1)\n",
            "Collecting JSON-minify>=0.3.0\n",
            "  Downloading JSON_minify-0.3.0-py2.py3-none-any.whl (5.2 kB)\n",
            "Requirement already satisfied: lxml>=4.2.1 in /usr/local/lib/python3.8/dist-packages (from PaPie==0.3.9->pie-extended) (4.9.1)\n",
            "Collecting scikit-learn<0.23.0,>=0.19.1\n",
            "  Downloading scikit_learn-0.22.2.post1-cp38-cp38-manylinux1_x86_64.whl (7.0 MB)\n",
            "\u001b[K     |████████████████████████████████| 7.0 MB 39.8 MB/s \n",
            "\u001b[?25hRequirement already satisfied: gensim>=3.4.0 in /usr/local/lib/python3.8/dist-packages (from PaPie==0.3.9->pie-extended) (3.6.0)\n",
            "Requirement already satisfied: smart-open>=1.2.1 in /usr/local/lib/python3.8/dist-packages (from gensim>=3.4.0->PaPie==0.3.9->pie-extended) (5.2.1)\n",
            "Requirement already satisfied: six>=1.5.0 in /usr/local/lib/python3.8/dist-packages (from gensim>=3.4.0->PaPie==0.3.9->pie-extended) (1.15.0)\n",
            "Requirement already satisfied: charset-normalizer<3,>=2 in /usr/local/lib/python3.8/dist-packages (from requests>=2.25.0->pie-extended) (2.1.1)\n",
            "Requirement already satisfied: idna<4,>=2.5 in /usr/local/lib/python3.8/dist-packages (from requests>=2.25.0->pie-extended) (2.10)\n",
            "Requirement already satisfied: urllib3<1.27,>=1.21.1 in /usr/local/lib/python3.8/dist-packages (from requests>=2.25.0->pie-extended) (1.24.3)\n",
            "Requirement already satisfied: certifi>=2017.4.17 in /usr/local/lib/python3.8/dist-packages (from requests>=2.25.0->pie-extended) (2022.9.24)\n",
            "Requirement already satisfied: joblib>=0.11 in /usr/local/lib/python3.8/dist-packages (from scikit-learn<0.23.0,>=0.19.1->PaPie==0.3.9->pie-extended) (1.2.0)\n",
            "Requirement already satisfied: typing-extensions in /usr/local/lib/python3.8/dist-packages (from torch<=1.7.1,>=1.3.1->PaPie==0.3.9->pie-extended) (4.1.1)\n",
            "Building wheels for collected packages: pyyaml, terminaltables, typing\n",
            "  Building wheel for pyyaml (setup.py) ... \u001b[?25l\u001b[?25hdone\n",
            "  Created wheel for pyyaml: filename=PyYAML-5.1b3-cp38-cp38-linux_x86_64.whl size=44128 sha256=1d2f88e678d583e8d82b51fb84f3e9a07cee0bda4b25f47abf4d1430343c6430\n",
            "  Stored in directory: /root/.cache/pip/wheels/a2/8c/89/6a86b1310360a4f32ab71f831ff5ccf0015256f89cbfcb1e58\n",
            "  Building wheel for terminaltables (setup.py) ... \u001b[?25l\u001b[?25hdone\n",
            "  Created wheel for terminaltables: filename=terminaltables-3.1.0-py3-none-any.whl size=15355 sha256=7f202eadf09df5709706ac663c24c306219a1cae132a0ae823d394420d8e39a5\n",
            "  Stored in directory: /root/.cache/pip/wheels/08/8f/5f/253d0105a55bd84ee61ef0d37dbf70421e61e0cd70cef7c5e1\n",
            "  Building wheel for typing (setup.py) ... \u001b[?25l\u001b[?25hdone\n",
            "  Created wheel for typing: filename=typing-3.7.4.3-py3-none-any.whl size=26323 sha256=ee898f24f50d9a315d0504a2c721c69f2c4d9258d21f3d2dcc6d7c4610bbc1d5\n",
            "  Stored in directory: /root/.cache/pip/wheels/5e/5d/01/3083e091b57809dad979ea543def62d9d878950e3e74f0c930\n",
            "Successfully built pyyaml terminaltables typing\n",
            "Installing collected packages: numpy, scipy, typing, torch, terminaltables, scikit-learn, pyyaml, JSON-minify, unidecode, requests, PaPie, colorama, autodisambiguator, pie-extended\n",
            "  Attempting uninstall: numpy\n",
            "    Found existing installation: numpy 1.21.6\n",
            "    Uninstalling numpy-1.21.6:\n",
            "      Successfully uninstalled numpy-1.21.6\n",
            "  Attempting uninstall: scipy\n",
            "    Found existing installation: scipy 1.7.3\n",
            "    Uninstalling scipy-1.7.3:\n",
            "      Successfully uninstalled scipy-1.7.3\n",
            "  Attempting uninstall: torch\n",
            "    Found existing installation: torch 1.12.1+cu113\n",
            "    Uninstalling torch-1.12.1+cu113:\n",
            "      Successfully uninstalled torch-1.12.1+cu113\n",
            "  Attempting uninstall: scikit-learn\n",
            "    Found existing installation: scikit-learn 1.0.2\n",
            "    Uninstalling scikit-learn-1.0.2:\n",
            "      Successfully uninstalled scikit-learn-1.0.2\n",
            "  Attempting uninstall: pyyaml\n",
            "    Found existing installation: PyYAML 6.0\n",
            "    Uninstalling PyYAML-6.0:\n",
            "      Successfully uninstalled PyYAML-6.0\n",
            "  Attempting uninstall: requests\n",
            "    Found existing installation: requests 2.23.0\n",
            "    Uninstalling requests-2.23.0:\n",
            "      Successfully uninstalled requests-2.23.0\n",
            "\u001b[31mERROR: pip's dependency resolver does not currently take into account all the packages that are installed. This behaviour is the source of the following dependency conflicts.\n",
            "yellowbrick 1.5 requires scikit-learn>=1.0.0, but you have scikit-learn 0.22.2.post1 which is incompatible.\n",
            "xarray 0.20.2 requires numpy>=1.18, but you have numpy 1.17.5 which is incompatible.\n",
            "xarray-einstats 0.2.2 requires numpy>=1.21, but you have numpy 1.17.5 which is incompatible.\n",
            "torchvision 0.13.1+cu113 requires torch==1.12.1, but you have torch 1.7.1 which is incompatible.\n",
            "torchtext 0.13.1 requires torch==1.12.1, but you have torch 1.7.1 which is incompatible.\n",
            "torchaudio 0.12.1+cu113 requires torch==1.12.1, but you have torch 1.7.1 which is incompatible.\n",
            "tensorflow 2.9.2 requires numpy>=1.20, but you have numpy 1.17.5 which is incompatible.\n",
            "tables 3.7.0 requires numpy>=1.19.0, but you have numpy 1.17.5 which is incompatible.\n",
            "plotnine 0.8.0 requires numpy>=1.19.0, but you have numpy 1.17.5 which is incompatible.\n",
            "numba 0.56.4 requires numpy<1.24,>=1.18, but you have numpy 1.17.5 which is incompatible.\n",
            "kapre 0.3.7 requires numpy>=1.18.5, but you have numpy 1.17.5 which is incompatible.\n",
            "jaxlib 0.3.25+cuda11.cudnn805 requires numpy>=1.20, but you have numpy 1.17.5 which is incompatible.\n",
            "jax 0.3.25 requires numpy>=1.20, but you have numpy 1.17.5 which is incompatible.\n",
            "imbalanced-learn 0.8.1 requires scikit-learn>=0.24, but you have scikit-learn 0.22.2.post1 which is incompatible.\n",
            "gym 0.25.2 requires numpy>=1.18.0, but you have numpy 1.17.5 which is incompatible.\n",
            "dask 2022.2.0 requires pyyaml>=5.3.1, but you have pyyaml 5.1b3 which is incompatible.\n",
            "cmdstanpy 1.0.8 requires numpy>=1.21, but you have numpy 1.17.5 which is incompatible.\n",
            "aeppl 0.0.33 requires numpy>=1.18.1, but you have numpy 1.17.5 which is incompatible.\u001b[0m\n",
            "Successfully installed JSON-minify-0.3.0 PaPie-0.3.9 autodisambiguator-0.0.1 colorama-0.4.6 numpy-1.17.5 pie-extended-0.0.41 pyyaml-5.1b3 requests-2.28.1 scikit-learn-0.22.2.post1 scipy-1.5.4 terminaltables-3.1.0 torch-1.7.1 typing-3.7.4.3 unidecode-1.3.6\n"
          ]
        },
        {
          "output_type": "display_data",
          "data": {
            "application/vnd.colab-display-data+json": {
              "pip_warning": {
                "packages": [
                  "numpy",
                  "typing"
                ]
              }
            }
          },
          "metadata": {}
        }
      ]
    },
    {
      "cell_type": "code",
      "source": [
        "from typing import List\n",
        "from pie_extended.cli.utils import get_tagger, get_model, download\n",
        "\n",
        "# In case you need to download\n",
        "do_download = True\n",
        "if do_download:\n",
        "    for dl in download(\"lasla\"):\n",
        "        x = 1\n",
        "\n",
        "# model_path allows you to override the model loaded by another .tar\n",
        "model_name = \"lasla\"\n",
        "tagger = get_tagger(model_name, batch_size=256, device=\"cpu\", model_path=None)\n",
        "\n",
        "sentences: List[str] = [\"Lorem ipsum dolor sit amet, consectetur adipiscing elit. \"]\n",
        "# Get the main object from the model (: data iterator + postprocesor\n",
        "from pie_extended.models.lasla.imports import get_iterator_and_processor\n",
        "for sentence_group in sentences:\n",
        "    iterator, processor = get_iterator_and_processor()\n",
        "    print(tagger.tag_str(sentence_group, iterator=iterator, processor=processor) )"
      ],
      "metadata": {
        "colab": {
          "base_uri": "https://localhost:8080/"
        },
        "id": "8VHGNuAaEE-L",
        "outputId": "8174c2e6-f6fa-4956-bade-10cc4f3d980a"
      },
      "execution_count": 2,
      "outputs": [
        {
          "output_type": "stream",
          "name": "stdout",
          "text": [
            "[████████████████████████████████████████████████████████████████████████████████████████████████████████████████████████████████████████████████████████████████████████████████████████████]\n",
            "[████████████████████████████████████████████████████████████████████████████████████████████████████████████████████████████████████████████████████████████████████████████████████████████████████████████████████████████████████████████████████████████████████████████████████████████████████████████████████]\n",
            "[██████████████████████████████████████████████████████████████████████████████████████████████████████████████████████████████████████████████████]\n",
            "[██████████████████████████████████████████████████]\n",
            "[██████████████████████████████████████████████████]\n",
            "[██████████████████████████████████████████████████]\n",
            "[██████████████████████████████████████████████████]\n",
            "[██████████████████████████████████████████████████]\n",
            "[██████████████████████████████████████████████████]\n",
            "[██████████████████████████████████████████████████]\n",
            "[██████████████████████████████████████████████████]\n",
            "[██████████████████████████████████████████████████]\n",
            "[{'form': 'Lorem', 'lemma': 'lor', 'pos': 'NOMcom', 'morph': 'Case=Acc|Numb=Sing', 'Dis': '_', 'treated': 'Lorem'}, {'form': 'ipsum', 'lemma': 'ipse', 'pos': 'PROdem', 'morph': 'Case=Acc|Numb=Sing|Gend=MascNeut', 'Dis': '_', 'treated': 'ipsum'}, {'form': 'dolor', 'lemma': 'dolor', 'pos': 'NOMcom', 'morph': 'Case=Nom|Numb=Sing', 'Dis': '_', 'treated': 'dolor'}, {'form': 'sit', 'lemma': 'sum1', 'pos': 'VER', 'morph': 'Numb=Sing|Mood=Sub|Tense=Pres|Voice=Act|Person=3', 'Dis': '1', 'treated': 'sit'}, {'form': 'amet', 'lemma': 'amo', 'pos': 'VER', 'morph': 'Numb=Sing|Mood=Sub|Tense=Pres|Voice=Act|Person=3', 'Dis': '_', 'treated': 'amet'}, {'form': ',', 'lemma': ',', 'pos': 'PUNC', 'morph': 'MORPH=empty', 'treated': '--IGN.--', 'Dis': '_'}, {'form': 'consectetur', 'lemma': 'consector2', 'pos': 'VER', 'morph': 'Numb=Sing|Mood=Sub|Tense=Pres|Voice=Dep|Person=3', 'Dis': '2', 'treated': 'consectetur'}, {'form': 'adipiscing', 'lemma': 'adipiscor', 'pos': 'VER', 'morph': 'Numb=Sing', 'Dis': '_', 'treated': 'adipiscing'}, {'form': 'elit', 'lemma': 'elo', 'pos': 'VER', 'morph': 'Numb=Sing|Mood=Ind|Tense=Pres|Voice=Act|Person=3', 'Dis': '_', 'treated': 'elit'}, {'form': '.', 'lemma': '.', 'pos': 'PUNC', 'morph': 'MORPH=empty', 'treated': '--IGN.--', 'Dis': '_'}]\n"
          ]
        }
      ]
    },
    {
      "cell_type": "code",
      "source": [
        "from typing import List\n",
        "from pie_extended.cli.utils import get_tagger, get_model, download\n",
        "\n",
        "# model_path allows you to override the model loaded by another .tar\n",
        "model_name = \"lasla\"\n",
        "tagger = get_tagger(model_name, batch_size=256, device=\"cpu\", model_path=None)\n",
        "\n",
        "sentences: List[str] = [\"Lorem ipsum dolor sit amet, consectetur adipiscing elit. \"]\n",
        "\n",
        "# Get the main object from the model (: data iterator + postprocesor\n",
        "from pie_extended.models.lasla.imports import get_iterator_and_processor\n",
        "\n",
        "for sentence_group in sentences:\n",
        "    iterator, processor = get_iterator_and_processor()\n",
        "    print(tagger.tag_str(sentence_group, iterator=iterator, processor=processor) )"
      ],
      "metadata": {
        "colab": {
          "base_uri": "https://localhost:8080/"
        },
        "id": "RSqb9qapJKIB",
        "outputId": "31321d35-ec89-4eb2-c731-e6404a0403b1"
      },
      "execution_count": 3,
      "outputs": [
        {
          "output_type": "stream",
          "name": "stdout",
          "text": [
            "[{'form': 'Lorem', 'lemma': 'lor', 'pos': 'NOMcom', 'morph': 'Case=Acc|Numb=Sing', 'Dis': '_', 'treated': 'Lorem'}, {'form': 'ipsum', 'lemma': 'ipse', 'pos': 'PROdem', 'morph': 'Case=Acc|Numb=Sing|Gend=MascNeut', 'Dis': '_', 'treated': 'ipsum'}, {'form': 'dolor', 'lemma': 'dolor', 'pos': 'NOMcom', 'morph': 'Case=Nom|Numb=Sing', 'Dis': '_', 'treated': 'dolor'}, {'form': 'sit', 'lemma': 'sum1', 'pos': 'VER', 'morph': 'Numb=Sing|Mood=Sub|Tense=Pres|Voice=Act|Person=3', 'Dis': '1', 'treated': 'sit'}, {'form': 'amet', 'lemma': 'amo', 'pos': 'VER', 'morph': 'Numb=Sing|Mood=Sub|Tense=Pres|Voice=Act|Person=3', 'Dis': '_', 'treated': 'amet'}, {'form': ',', 'lemma': ',', 'pos': 'PUNC', 'morph': 'MORPH=empty', 'treated': '--IGN.--', 'Dis': '_'}, {'form': 'consectetur', 'lemma': 'consector2', 'pos': 'VER', 'morph': 'Numb=Sing|Mood=Sub|Tense=Pres|Voice=Dep|Person=3', 'Dis': '2', 'treated': 'consectetur'}, {'form': 'adipiscing', 'lemma': 'adipiscor', 'pos': 'VER', 'morph': 'Numb=Sing', 'Dis': '_', 'treated': 'adipiscing'}, {'form': 'elit', 'lemma': 'elo', 'pos': 'VER', 'morph': 'Numb=Sing|Mood=Ind|Tense=Pres|Voice=Act|Person=3', 'Dis': '_', 'treated': 'elit'}, {'form': '.', 'lemma': '.', 'pos': 'PUNC', 'morph': 'MORPH=empty', 'treated': '--IGN.--', 'Dis': '_'}]\n"
          ]
        }
      ]
    }
  ],
  "metadata": {
    "colab": {
      "provenance": []
    },
    "kernelspec": {
      "display_name": "Python 3",
      "name": "python3"
    },
    "language_info": {
      "name": "python"
    }
  },
  "nbformat": 4,
  "nbformat_minor": 0
}