{
  "nbformat": 4,
  "nbformat_minor": 0,
  "metadata": {
    "colab": {
      "name": "Utiliser des transformers via HuggingFace.ipynb",
      "provenance": [],
      "collapsed_sections": [],
      "authorship_tag": "ABX9TyPgc/qug0lnnh3Rxj7sb596"
    },
    "kernelspec": {
      "name": "python3",
      "display_name": "Python 3"
    },
    "language_info": {
      "name": "python"
    }
  },
  "cells": [
    {
      "cell_type": "markdown",
      "source": [
        "https://huggingface.co/docs/transformers/tasks/token_classification "
      ],
      "metadata": {
        "id": "R6UAcfYQsrgg"
      }
    },
    {
      "cell_type": "code",
      "source": [
        "!pip install transformers"
      ],
      "metadata": {
        "colab": {
          "base_uri": "https://localhost:8080/"
        },
        "id": "ODz7Gf9Qh3x_",
        "outputId": "1c194d9a-393b-4246-90c1-aa7ab7095d38"
      },
      "execution_count": 1,
      "outputs": [
        {
          "output_type": "stream",
          "name": "stdout",
          "text": [
            "Requirement already satisfied: transformers in /usr/local/lib/python3.7/dist-packages (4.17.0)\n",
            "Requirement already satisfied: tokenizers!=0.11.3,>=0.11.1 in /usr/local/lib/python3.7/dist-packages (from transformers) (0.11.6)\n",
            "Requirement already satisfied: requests in /usr/local/lib/python3.7/dist-packages (from transformers) (2.23.0)\n",
            "Requirement already satisfied: regex!=2019.12.17 in /usr/local/lib/python3.7/dist-packages (from transformers) (2019.12.20)\n",
            "Requirement already satisfied: numpy>=1.17 in /usr/local/lib/python3.7/dist-packages (from transformers) (1.21.5)\n",
            "Requirement already satisfied: pyyaml>=5.1 in /usr/local/lib/python3.7/dist-packages (from transformers) (6.0)\n",
            "Requirement already satisfied: sacremoses in /usr/local/lib/python3.7/dist-packages (from transformers) (0.0.49)\n",
            "Requirement already satisfied: huggingface-hub<1.0,>=0.1.0 in /usr/local/lib/python3.7/dist-packages (from transformers) (0.4.0)\n",
            "Requirement already satisfied: filelock in /usr/local/lib/python3.7/dist-packages (from transformers) (3.6.0)\n",
            "Requirement already satisfied: importlib-metadata in /usr/local/lib/python3.7/dist-packages (from transformers) (4.11.2)\n",
            "Requirement already satisfied: tqdm>=4.27 in /usr/local/lib/python3.7/dist-packages (from transformers) (4.63.0)\n",
            "Requirement already satisfied: packaging>=20.0 in /usr/local/lib/python3.7/dist-packages (from transformers) (21.3)\n",
            "Requirement already satisfied: typing-extensions>=3.7.4.3 in /usr/local/lib/python3.7/dist-packages (from huggingface-hub<1.0,>=0.1.0->transformers) (3.10.0.2)\n",
            "Requirement already satisfied: pyparsing!=3.0.5,>=2.0.2 in /usr/local/lib/python3.7/dist-packages (from packaging>=20.0->transformers) (3.0.7)\n",
            "Requirement already satisfied: zipp>=0.5 in /usr/local/lib/python3.7/dist-packages (from importlib-metadata->transformers) (3.7.0)\n",
            "Requirement already satisfied: urllib3!=1.25.0,!=1.25.1,<1.26,>=1.21.1 in /usr/local/lib/python3.7/dist-packages (from requests->transformers) (1.24.3)\n",
            "Requirement already satisfied: idna<3,>=2.5 in /usr/local/lib/python3.7/dist-packages (from requests->transformers) (2.10)\n",
            "Requirement already satisfied: chardet<4,>=3.0.2 in /usr/local/lib/python3.7/dist-packages (from requests->transformers) (3.0.4)\n",
            "Requirement already satisfied: certifi>=2017.4.17 in /usr/local/lib/python3.7/dist-packages (from requests->transformers) (2021.10.8)\n",
            "Requirement already satisfied: joblib in /usr/local/lib/python3.7/dist-packages (from sacremoses->transformers) (1.1.0)\n",
            "Requirement already satisfied: six in /usr/local/lib/python3.7/dist-packages (from sacremoses->transformers) (1.15.0)\n",
            "Requirement already satisfied: click in /usr/local/lib/python3.7/dist-packages (from sacremoses->transformers) (7.1.2)\n"
          ]
        }
      ]
    },
    {
      "cell_type": "markdown",
      "source": [
        "**REN en anglais**"
      ],
      "metadata": {
        "id": "lDulRudaAwLy"
      }
    },
    {
      "cell_type": "code",
      "execution_count": 2,
      "metadata": {
        "colab": {
          "base_uri": "https://localhost:8080/"
        },
        "id": "jTvxCsPSD5y0",
        "outputId": "ccf99f9f-2b83-46e6-a770-2c177336f1e1"
      },
      "outputs": [
        {
          "output_type": "stream",
          "name": "stderr",
          "text": [
            "No model was supplied, defaulted to dbmdz/bert-large-cased-finetuned-conll03-english (https://huggingface.co/dbmdz/bert-large-cased-finetuned-conll03-english)\n"
          ]
        },
        {
          "output_type": "execute_result",
          "data": {
            "text/plain": [
              "[{'end': 14,\n",
              "  'entity': 'I-PER',\n",
              "  'index': 5,\n",
              "  'score': 0.99770516,\n",
              "  'start': 10,\n",
              "  'word': 'Omar'},\n",
              " {'end': 35,\n",
              "  'entity': 'I-LOC',\n",
              "  'index': 10,\n",
              "  'score': 0.9968976,\n",
              "  'start': 29,\n",
              "  'word': 'Zürich'}]"
            ]
          },
          "metadata": {},
          "execution_count": 2
        }
      ],
      "source": [
        "from transformers import pipeline\n",
        "\n",
        "classifier = pipeline(\"ner\")\n",
        "classifier(\"Hello I'm Omar and I live in Zürich.\")"
      ]
    },
    {
      "cell_type": "markdown",
      "source": [
        "**Classification des mots (POS tags) en anglais**"
      ],
      "metadata": {
        "id": "s8E8TmvCA0o3"
      }
    },
    {
      "cell_type": "code",
      "source": [
        "from transformers import pipeline\n",
        "\n",
        "classifier = pipeline(\"token-classification\", model = \"vblagoje/bert-english-uncased-finetuned-pos\")\n",
        "classifier(\"Hello I'm Omar and I live in Zürich.\")"
      ],
      "metadata": {
        "colab": {
          "base_uri": "https://localhost:8080/"
        },
        "id": "8McOhdkth11C",
        "outputId": "31e33b3e-a8e2-4b32-80ca-307e4f6ad009"
      },
      "execution_count": 3,
      "outputs": [
        {
          "output_type": "execute_result",
          "data": {
            "text/plain": [
              "[{'end': 5,\n",
              "  'entity': 'INTJ',\n",
              "  'index': 1,\n",
              "  'score': 0.99677867,\n",
              "  'start': 0,\n",
              "  'word': 'hello'},\n",
              " {'end': 7,\n",
              "  'entity': 'PRON',\n",
              "  'index': 2,\n",
              "  'score': 0.9994424,\n",
              "  'start': 6,\n",
              "  'word': 'i'},\n",
              " {'end': 8,\n",
              "  'entity': 'AUX',\n",
              "  'index': 3,\n",
              "  'score': 0.9962947,\n",
              "  'start': 7,\n",
              "  'word': \"'\"},\n",
              " {'end': 9,\n",
              "  'entity': 'AUX',\n",
              "  'index': 4,\n",
              "  'score': 0.9960801,\n",
              "  'start': 8,\n",
              "  'word': 'm'},\n",
              " {'end': 14,\n",
              "  'entity': 'PROPN',\n",
              "  'index': 5,\n",
              "  'score': 0.9989945,\n",
              "  'start': 10,\n",
              "  'word': 'omar'},\n",
              " {'end': 18,\n",
              "  'entity': 'CCONJ',\n",
              "  'index': 6,\n",
              "  'score': 0.999172,\n",
              "  'start': 15,\n",
              "  'word': 'and'},\n",
              " {'end': 20,\n",
              "  'entity': 'PRON',\n",
              "  'index': 7,\n",
              "  'score': 0.99947625,\n",
              "  'start': 19,\n",
              "  'word': 'i'},\n",
              " {'end': 25,\n",
              "  'entity': 'VERB',\n",
              "  'index': 8,\n",
              "  'score': 0.9985421,\n",
              "  'start': 21,\n",
              "  'word': 'live'},\n",
              " {'end': 28,\n",
              "  'entity': 'ADP',\n",
              "  'index': 9,\n",
              "  'score': 0.9994098,\n",
              "  'start': 26,\n",
              "  'word': 'in'},\n",
              " {'end': 35,\n",
              "  'entity': 'PROPN',\n",
              "  'index': 10,\n",
              "  'score': 0.9989255,\n",
              "  'start': 29,\n",
              "  'word': 'zurich'},\n",
              " {'end': 36,\n",
              "  'entity': 'PUNCT',\n",
              "  'index': 11,\n",
              "  'score': 0.9996586,\n",
              "  'start': 35,\n",
              "  'word': '.'}]"
            ]
          },
          "metadata": {},
          "execution_count": 3
        }
      ]
    },
    {
      "cell_type": "markdown",
      "source": [
        "**Analyse des sentiments en anglais et français avec le même modèle**"
      ],
      "metadata": {
        "id": "ClhkCiX9BBGo"
      }
    },
    {
      "cell_type": "code",
      "source": [
        "from transformers import pipeline\n",
        "classifier = pipeline(\"sentiment-analysis\")"
      ],
      "metadata": {
        "colab": {
          "base_uri": "https://localhost:8080/"
        },
        "id": "zGbw43_4BDfd",
        "outputId": "ab4f5534-d13a-48c6-81e1-7e5b595ed3bd"
      },
      "execution_count": 4,
      "outputs": [
        {
          "output_type": "stream",
          "name": "stderr",
          "text": [
            "No model was supplied, defaulted to distilbert-base-uncased-finetuned-sst-2-english (https://huggingface.co/distilbert-base-uncased-finetuned-sst-2-english)\n"
          ]
        }
      ]
    },
    {
      "cell_type": "code",
      "source": [
        "classifier([\"this is a great tutorial, thank you\", \n",
        "            \"your content just sucks\"])"
      ],
      "metadata": {
        "colab": {
          "base_uri": "https://localhost:8080/"
        },
        "id": "VVP9vfueBJ_L",
        "outputId": "0bccf64f-f96a-48c0-d84e-6357b84ca65b"
      },
      "execution_count": 5,
      "outputs": [
        {
          "output_type": "execute_result",
          "data": {
            "text/plain": [
              "[{'label': 'POSITIVE', 'score': 0.9998582601547241},\n",
              " {'label': 'NEGATIVE', 'score': 0.9971919655799866}]"
            ]
          },
          "metadata": {},
          "execution_count": 5
        }
      ]
    },
    {
      "cell_type": "code",
      "source": [
        "classifier([\"Ton tuto est vraiment bien\", \n",
        "            \"il est complètement nul\"])"
      ],
      "metadata": {
        "colab": {
          "base_uri": "https://localhost:8080/"
        },
        "id": "akb_ZZCRBMpk",
        "outputId": "bc5cddfa-8165-44dd-9e2f-c29561509cc8"
      },
      "execution_count": 6,
      "outputs": [
        {
          "output_type": "execute_result",
          "data": {
            "text/plain": [
              "[{'label': 'POSITIVE', 'score': 0.7650700211524963},\n",
              " {'label': 'POSITIVE', 'score': 0.8282662630081177}]"
            ]
          },
          "metadata": {},
          "execution_count": 6
        }
      ]
    },
    {
      "cell_type": "markdown",
      "source": [
        "**Analyse des sentiments en français avec un modèle multilingue** "
      ],
      "metadata": {
        "id": "skUZA7sXBQio"
      }
    },
    {
      "cell_type": "code",
      "source": [
        "multilang_classifier = pipeline(\"sentiment-analysis\", \n",
        "                                model=\"nlptown/bert-base-multilingual-uncased-sentiment\")\n",
        "\n",
        "multilang_classifier([\"Ton tuto est vraiment bien\", \n",
        "                      \"il est complètement nul\"])"
      ],
      "metadata": {
        "colab": {
          "base_uri": "https://localhost:8080/"
        },
        "id": "JpjuuOr-BU-z",
        "outputId": "db96bcc2-e1ab-48c7-aa77-a658993c227f"
      },
      "execution_count": 7,
      "outputs": [
        {
          "output_type": "execute_result",
          "data": {
            "text/plain": [
              "[{'label': '5 stars', 'score': 0.5787976980209351},\n",
              " {'label': '1 star', 'score': 0.9223358631134033}]"
            ]
          },
          "metadata": {},
          "execution_count": 7
        }
      ]
    },
    {
      "cell_type": "code",
      "source": [
        "multilang_classifier([\"this is a great tutorial, thank you\", \n",
        "            \"your content just sucks\"])"
      ],
      "metadata": {
        "colab": {
          "base_uri": "https://localhost:8080/"
        },
        "id": "8dCxmkFQEl64",
        "outputId": "f02be13d-82fe-40fc-aa72-26d836763a3d"
      },
      "execution_count": 8,
      "outputs": [
        {
          "output_type": "execute_result",
          "data": {
            "text/plain": [
              "[{'label': '5 stars', 'score': 0.727857768535614},\n",
              " {'label': '1 star', 'score': 0.6119689345359802}]"
            ]
          },
          "metadata": {},
          "execution_count": 8
        }
      ]
    },
    {
      "cell_type": "markdown",
      "source": [
        "**REN en français avec un modèle pour le français** "
      ],
      "metadata": {
        "id": "ikV5RPFPB6u0"
      }
    },
    {
      "cell_type": "code",
      "source": [
        "!pip install sentencepiece"
      ],
      "metadata": {
        "colab": {
          "base_uri": "https://localhost:8080/"
        },
        "id": "1DzHyaAQF2Lr",
        "outputId": "09f0b5c2-4139-44f7-b350-40b685479821"
      },
      "execution_count": 9,
      "outputs": [
        {
          "output_type": "stream",
          "name": "stdout",
          "text": [
            "Requirement already satisfied: sentencepiece in /usr/local/lib/python3.7/dist-packages (0.1.96)\n"
          ]
        }
      ]
    },
    {
      "cell_type": "code",
      "source": [
        "from transformers import AutoTokenizer, AutoModelForTokenClassification\n",
        "\n",
        "tokenizer = AutoTokenizer.from_pretrained(\"Jean-Baptiste/camembert-ner\")\n",
        "model = AutoModelForTokenClassification.from_pretrained(\"Jean-Baptiste/camembert-ner\")\n",
        "\n",
        "nlp = pipeline('ner', model=model, tokenizer=tokenizer, aggregation_strategy=\"simple\")\n",
        "nlp(\"Apple est créée le 1er avril 1976 dans le garage de la maison d'enfance de Steve Jobs à Los Altos en Californie par Steve Jobs, Steve Wozniak et Ronald Wayne14, puis constituée sous forme de société le 3 janvier 1977 à l'origine sous le nom d'Apple Computer, mais pour ses 30 ans et pour refléter la diversification de ses produits, le mot « computer » est retiré le 9 janvier 2015.\")\n",
        "\n",
        "#ner = pipeline(\"token-classification\", model=\"Jean-Baptiste/camembert-ner\")\n",
        "#nes = ner(\"Colin est parti à Saint-André acheter de la mozzarella\")\n",
        "#pprint.pprint(nes)"
      ],
      "metadata": {
        "colab": {
          "base_uri": "https://localhost:8080/"
        },
        "id": "hIS1C5g9CAnK",
        "outputId": "2b558c9b-6339-41a7-ae7e-0aef4b535dce"
      },
      "execution_count": 10,
      "outputs": [
        {
          "output_type": "execute_result",
          "data": {
            "text/plain": [
              "[{'end': 5,\n",
              "  'entity_group': 'ORG',\n",
              "  'score': 0.9921588,\n",
              "  'start': 0,\n",
              "  'word': 'Apple'},\n",
              " {'end': 85,\n",
              "  'entity_group': 'PER',\n",
              "  'score': 0.99597645,\n",
              "  'start': 74,\n",
              "  'word': 'Steve Jobs'},\n",
              " {'end': 97,\n",
              "  'entity_group': 'LOC',\n",
              "  'score': 0.99835855,\n",
              "  'start': 87,\n",
              "  'word': 'Los Altos'},\n",
              " {'end': 111,\n",
              "  'entity_group': 'LOC',\n",
              "  'score': 0.9982911,\n",
              "  'start': 100,\n",
              "  'word': 'Californie'},\n",
              " {'end': 126,\n",
              "  'entity_group': 'PER',\n",
              "  'score': 0.99870753,\n",
              "  'start': 115,\n",
              "  'word': 'Steve Jobs'},\n",
              " {'end': 141,\n",
              "  'entity_group': 'PER',\n",
              "  'score': 0.99879086,\n",
              "  'start': 127,\n",
              "  'word': 'Steve Wozniak'},\n",
              " {'end': 157,\n",
              "  'entity_group': 'PER',\n",
              "  'score': 0.99646753,\n",
              "  'start': 144,\n",
              "  'word': 'Ronald Wayne'},\n",
              " {'end': 257,\n",
              "  'entity_group': 'ORG',\n",
              "  'score': 0.9449747,\n",
              "  'start': 243,\n",
              "  'word': 'Apple Computer'}]"
            ]
          },
          "metadata": {},
          "execution_count": 10
        }
      ]
    }
  ]
}