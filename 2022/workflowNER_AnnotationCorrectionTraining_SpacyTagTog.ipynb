{
  "nbformat": 4,
  "nbformat_minor": 0,
  "metadata": {
    "colab": {
      "provenance": []
    },
    "kernelspec": {
      "name": "python3",
      "display_name": "Python 3"
    },
    "language_info": {
      "name": "python"
    }
  },
  "cells": [
    {
      "cell_type": "markdown",
      "source": [
        "## Chaine de traitement en Python pour adapter le moteur de reconnaissance d'entités nommées de Spacy par entrainement. \n",
        "\n",
        "Il s'agit de :\n",
        "\n",
        "\n",
        "1.   annoter automatiquement en noms de lieux (LOC) et de personnes (PERS) un extrait du texte \"Bel Ami\" de Maupassant en s'appuyant sur le modèle pour le français \"fr_core_news_sm\" proposé par Spacy ;\n",
        "2.   transférer le texte annoté vers l'outil d'annotation TagTog via leur API REST afin de corriger manuellement les annotations créées automatiquement;\n",
        "3.   Corriger manuellement ces annotations en vue de créer un jeu  de données d'entrainement ;\n",
        "4.   Formatter et intégrer les annotations corrigées dans Spacy en tant que jeu de données d'entrainement ;\n",
        "5.  Initialiser un modèle qui sera entrainé de manière incrémentale à partir du jeu d'entrainement ;\n",
        "6.  Initialiser l'entrainement avec les paramètres définis dans le fichier .cfg et entrainement par le biais du CLI de Spacy ;\n",
        "7.  Test du nouveau modèle sur un autre extrait de \"Bel Ami\" de Maupassant.\n",
        "\n",
        "\n",
        "\n"
      ],
      "metadata": {
        "id": "htmoCRKpviSK"
      }
    },
    {
      "cell_type": "code",
      "source": [
        "!git clone https://github.com/cvbrandoe/coursTAL.git"
      ],
      "metadata": {
        "colab": {
          "base_uri": "https://localhost:8080/"
        },
        "id": "j21NZ6AsIjqn",
        "outputId": "17399b13-3648-4064-a7cc-64c43bb94622"
      },
      "execution_count": 1,
      "outputs": [
        {
          "output_type": "stream",
          "name": "stdout",
          "text": [
            "Cloning into 'coursTAL'...\n",
            "remote: Enumerating objects: 135, done.\u001b[K\n",
            "remote: Counting objects: 100% (77/77), done.\u001b[K\n",
            "remote: Compressing objects: 100% (38/38), done.\u001b[K\n",
            "remote: Total 135 (delta 39), reused 77 (delta 39), pack-reused 58\u001b[K\n",
            "Receiving objects: 100% (135/135), 11.86 MiB | 20.25 MiB/s, done.\n",
            "Resolving deltas: 100% (60/60), done.\n"
          ]
        }
      ]
    },
    {
      "cell_type": "markdown",
      "source": [
        "**Prérequis : Installation ou mise à jour de Spacy et téléchargement du modèle**"
      ],
      "metadata": {
        "id": "CIH6rkzkxA1k"
      }
    },
    {
      "cell_type": "code",
      "source": [
        "!pip install -U pip setuptools wheel\n",
        "!pip install -U spacy"
      ],
      "metadata": {
        "id": "JEA7X_37drkv",
        "colab": {
          "base_uri": "https://localhost:8080/",
          "height": 1000
        },
        "outputId": "286eb27c-d34b-4437-a5cf-5054e3cccfdf"
      },
      "execution_count": 2,
      "outputs": [
        {
          "output_type": "stream",
          "name": "stdout",
          "text": [
            "Looking in indexes: https://pypi.org/simple, https://us-python.pkg.dev/colab-wheels/public/simple/\n",
            "Requirement already satisfied: pip in /usr/local/lib/python3.8/dist-packages (21.1.3)\n",
            "Collecting pip\n",
            "  Downloading pip-22.3.1-py3-none-any.whl (2.1 MB)\n",
            "\u001b[K     |████████████████████████████████| 2.1 MB 4.3 MB/s \n",
            "\u001b[?25hRequirement already satisfied: setuptools in /usr/local/lib/python3.8/dist-packages (57.4.0)\n",
            "Collecting setuptools\n",
            "  Downloading setuptools-65.6.3-py3-none-any.whl (1.2 MB)\n",
            "\u001b[K     |████████████████████████████████| 1.2 MB 38.7 MB/s \n",
            "\u001b[?25hRequirement already satisfied: wheel in /usr/local/lib/python3.8/dist-packages (0.38.4)\n",
            "Installing collected packages: setuptools, pip\n",
            "  Attempting uninstall: setuptools\n",
            "    Found existing installation: setuptools 57.4.0\n",
            "    Uninstalling setuptools-57.4.0:\n",
            "      Successfully uninstalled setuptools-57.4.0\n",
            "  Attempting uninstall: pip\n",
            "    Found existing installation: pip 21.1.3\n",
            "    Uninstalling pip-21.1.3:\n",
            "      Successfully uninstalled pip-21.1.3\n",
            "\u001b[31mERROR: pip's dependency resolver does not currently take into account all the packages that are installed. This behaviour is the source of the following dependency conflicts.\n",
            "ipython 7.9.0 requires jedi>=0.10, which is not installed.\u001b[0m\n",
            "Successfully installed pip-22.3.1 setuptools-65.6.3\n"
          ]
        },
        {
          "output_type": "display_data",
          "data": {
            "application/vnd.colab-display-data+json": {
              "pip_warning": {
                "packages": [
                  "pkg_resources"
                ]
              }
            }
          },
          "metadata": {}
        },
        {
          "output_type": "stream",
          "name": "stdout",
          "text": [
            "Looking in indexes: https://pypi.org/simple, https://us-python.pkg.dev/colab-wheels/public/simple/\n",
            "Requirement already satisfied: spacy in /usr/local/lib/python3.8/dist-packages (3.4.3)\n",
            "Requirement already satisfied: numpy>=1.15.0 in /usr/local/lib/python3.8/dist-packages (from spacy) (1.21.6)\n",
            "Requirement already satisfied: spacy-legacy<3.1.0,>=3.0.10 in /usr/local/lib/python3.8/dist-packages (from spacy) (3.0.10)\n",
            "Requirement already satisfied: langcodes<4.0.0,>=3.2.0 in /usr/local/lib/python3.8/dist-packages (from spacy) (3.3.0)\n",
            "Requirement already satisfied: requests<3.0.0,>=2.13.0 in /usr/local/lib/python3.8/dist-packages (from spacy) (2.23.0)\n",
            "Requirement already satisfied: jinja2 in /usr/local/lib/python3.8/dist-packages (from spacy) (2.11.3)\n",
            "Requirement already satisfied: pydantic!=1.8,!=1.8.1,<1.11.0,>=1.7.4 in /usr/local/lib/python3.8/dist-packages (from spacy) (1.10.2)\n",
            "Requirement already satisfied: setuptools in /usr/local/lib/python3.8/dist-packages (from spacy) (65.6.3)\n",
            "Requirement already satisfied: typer<0.8.0,>=0.3.0 in /usr/local/lib/python3.8/dist-packages (from spacy) (0.7.0)\n",
            "Requirement already satisfied: tqdm<5.0.0,>=4.38.0 in /usr/local/lib/python3.8/dist-packages (from spacy) (4.64.1)\n",
            "Requirement already satisfied: wasabi<1.1.0,>=0.9.1 in /usr/local/lib/python3.8/dist-packages (from spacy) (0.10.1)\n",
            "Requirement already satisfied: packaging>=20.0 in /usr/local/lib/python3.8/dist-packages (from spacy) (21.3)\n",
            "Requirement already satisfied: cymem<2.1.0,>=2.0.2 in /usr/local/lib/python3.8/dist-packages (from spacy) (2.0.7)\n",
            "Requirement already satisfied: srsly<3.0.0,>=2.4.3 in /usr/local/lib/python3.8/dist-packages (from spacy) (2.4.5)\n",
            "Requirement already satisfied: preshed<3.1.0,>=3.0.2 in /usr/local/lib/python3.8/dist-packages (from spacy) (3.0.8)\n",
            "Requirement already satisfied: spacy-loggers<2.0.0,>=1.0.0 in /usr/local/lib/python3.8/dist-packages (from spacy) (1.0.3)\n",
            "Requirement already satisfied: pathy>=0.3.5 in /usr/local/lib/python3.8/dist-packages (from spacy) (0.9.0)\n",
            "Requirement already satisfied: murmurhash<1.1.0,>=0.28.0 in /usr/local/lib/python3.8/dist-packages (from spacy) (1.0.9)\n",
            "Requirement already satisfied: thinc<8.2.0,>=8.1.0 in /usr/local/lib/python3.8/dist-packages (from spacy) (8.1.5)\n",
            "Requirement already satisfied: catalogue<2.1.0,>=2.0.6 in /usr/local/lib/python3.8/dist-packages (from spacy) (2.0.8)\n",
            "Requirement already satisfied: pyparsing!=3.0.5,>=2.0.2 in /usr/local/lib/python3.8/dist-packages (from packaging>=20.0->spacy) (3.0.9)\n",
            "Requirement already satisfied: smart-open<6.0.0,>=5.2.1 in /usr/local/lib/python3.8/dist-packages (from pathy>=0.3.5->spacy) (5.2.1)\n",
            "Requirement already satisfied: typing-extensions>=4.1.0 in /usr/local/lib/python3.8/dist-packages (from pydantic!=1.8,!=1.8.1,<1.11.0,>=1.7.4->spacy) (4.1.1)\n",
            "Requirement already satisfied: chardet<4,>=3.0.2 in /usr/local/lib/python3.8/dist-packages (from requests<3.0.0,>=2.13.0->spacy) (3.0.4)\n",
            "Requirement already satisfied: idna<3,>=2.5 in /usr/local/lib/python3.8/dist-packages (from requests<3.0.0,>=2.13.0->spacy) (2.10)\n",
            "Requirement already satisfied: certifi>=2017.4.17 in /usr/local/lib/python3.8/dist-packages (from requests<3.0.0,>=2.13.0->spacy) (2022.9.24)\n",
            "Requirement already satisfied: urllib3!=1.25.0,!=1.25.1,<1.26,>=1.21.1 in /usr/local/lib/python3.8/dist-packages (from requests<3.0.0,>=2.13.0->spacy) (1.24.3)\n",
            "Requirement already satisfied: confection<1.0.0,>=0.0.1 in /usr/local/lib/python3.8/dist-packages (from thinc<8.2.0,>=8.1.0->spacy) (0.0.3)\n",
            "Requirement already satisfied: blis<0.8.0,>=0.7.8 in /usr/local/lib/python3.8/dist-packages (from thinc<8.2.0,>=8.1.0->spacy) (0.7.9)\n",
            "Requirement already satisfied: click<9.0.0,>=7.1.1 in /usr/local/lib/python3.8/dist-packages (from typer<0.8.0,>=0.3.0->spacy) (7.1.2)\n",
            "Requirement already satisfied: MarkupSafe>=0.23 in /usr/local/lib/python3.8/dist-packages (from jinja2->spacy) (2.0.1)\n",
            "\u001b[33mWARNING: Running pip as the 'root' user can result in broken permissions and conflicting behaviour with the system package manager. It is recommended to use a virtual environment instead: https://pip.pypa.io/warnings/venv\u001b[0m\u001b[33m\n",
            "\u001b[0m"
          ]
        }
      ]
    },
    {
      "cell_type": "code",
      "execution_count": 3,
      "metadata": {
        "id": "_myBICfwdlt0",
        "outputId": "a8afc446-03f5-446f-b758-5849020d3f92",
        "colab": {
          "base_uri": "https://localhost:8080/"
        }
      },
      "outputs": [
        {
          "output_type": "stream",
          "name": "stdout",
          "text": [
            "2022-12-06 19:25:15.271001: E tensorflow/stream_executor/cuda/cuda_driver.cc:271] failed call to cuInit: CUDA_ERROR_NO_DEVICE: no CUDA-capable device is detected\n",
            "\u001b[1m\n",
            "============================== Info about spaCy ==============================\u001b[0m\n",
            "\n",
            "spaCy version    3.4.3                         \n",
            "Location         /usr/local/lib/python3.8/dist-packages/spacy\n",
            "Platform         Linux-5.10.133+-x86_64-with-glibc2.27\n",
            "Python version   3.8.15                        \n",
            "Pipelines        en_core_web_sm (3.4.1)        \n",
            "\n"
          ]
        }
      ],
      "source": [
        "!python -m spacy info"
      ]
    },
    {
      "cell_type": "code",
      "source": [
        "!python -m spacy download fr_core_news_sm  "
      ],
      "metadata": {
        "id": "jMJpmXfgefSf",
        "colab": {
          "base_uri": "https://localhost:8080/"
        },
        "outputId": "6db71e21-2cf1-4924-a3d8-3b51280ab9ab"
      },
      "execution_count": 4,
      "outputs": [
        {
          "output_type": "stream",
          "name": "stdout",
          "text": [
            "2022-12-06 19:25:26.183084: E tensorflow/stream_executor/cuda/cuda_driver.cc:271] failed call to cuInit: CUDA_ERROR_NO_DEVICE: no CUDA-capable device is detected\n",
            "Looking in indexes: https://pypi.org/simple, https://us-python.pkg.dev/colab-wheels/public/simple/\n",
            "Collecting fr-core-news-sm==3.4.0\n",
            "  Downloading https://github.com/explosion/spacy-models/releases/download/fr_core_news_sm-3.4.0/fr_core_news_sm-3.4.0-py3-none-any.whl (16.3 MB)\n",
            "\u001b[2K     \u001b[90m━━━━━━━━━━━━━━━━━━━━━━━━━━━━━━━━━━━━━━━━\u001b[0m \u001b[32m16.3/16.3 MB\u001b[0m \u001b[31m18.3 MB/s\u001b[0m eta \u001b[36m0:00:00\u001b[0m\n",
            "\u001b[?25hRequirement already satisfied: spacy<3.5.0,>=3.4.0 in /usr/local/lib/python3.8/dist-packages (from fr-core-news-sm==3.4.0) (3.4.3)\n",
            "Requirement already satisfied: pathy>=0.3.5 in /usr/local/lib/python3.8/dist-packages (from spacy<3.5.0,>=3.4.0->fr-core-news-sm==3.4.0) (0.9.0)\n",
            "Requirement already satisfied: packaging>=20.0 in /usr/local/lib/python3.8/dist-packages (from spacy<3.5.0,>=3.4.0->fr-core-news-sm==3.4.0) (21.3)\n",
            "Requirement already satisfied: setuptools in /usr/local/lib/python3.8/dist-packages (from spacy<3.5.0,>=3.4.0->fr-core-news-sm==3.4.0) (65.6.3)\n",
            "Requirement already satisfied: catalogue<2.1.0,>=2.0.6 in /usr/local/lib/python3.8/dist-packages (from spacy<3.5.0,>=3.4.0->fr-core-news-sm==3.4.0) (2.0.8)\n",
            "Requirement already satisfied: cymem<2.1.0,>=2.0.2 in /usr/local/lib/python3.8/dist-packages (from spacy<3.5.0,>=3.4.0->fr-core-news-sm==3.4.0) (2.0.7)\n",
            "Requirement already satisfied: langcodes<4.0.0,>=3.2.0 in /usr/local/lib/python3.8/dist-packages (from spacy<3.5.0,>=3.4.0->fr-core-news-sm==3.4.0) (3.3.0)\n",
            "Requirement already satisfied: thinc<8.2.0,>=8.1.0 in /usr/local/lib/python3.8/dist-packages (from spacy<3.5.0,>=3.4.0->fr-core-news-sm==3.4.0) (8.1.5)\n",
            "Requirement already satisfied: jinja2 in /usr/local/lib/python3.8/dist-packages (from spacy<3.5.0,>=3.4.0->fr-core-news-sm==3.4.0) (2.11.3)\n",
            "Requirement already satisfied: spacy-loggers<2.0.0,>=1.0.0 in /usr/local/lib/python3.8/dist-packages (from spacy<3.5.0,>=3.4.0->fr-core-news-sm==3.4.0) (1.0.3)\n",
            "Requirement already satisfied: requests<3.0.0,>=2.13.0 in /usr/local/lib/python3.8/dist-packages (from spacy<3.5.0,>=3.4.0->fr-core-news-sm==3.4.0) (2.23.0)\n",
            "Requirement already satisfied: typer<0.8.0,>=0.3.0 in /usr/local/lib/python3.8/dist-packages (from spacy<3.5.0,>=3.4.0->fr-core-news-sm==3.4.0) (0.7.0)\n",
            "Requirement already satisfied: srsly<3.0.0,>=2.4.3 in /usr/local/lib/python3.8/dist-packages (from spacy<3.5.0,>=3.4.0->fr-core-news-sm==3.4.0) (2.4.5)\n",
            "Requirement already satisfied: tqdm<5.0.0,>=4.38.0 in /usr/local/lib/python3.8/dist-packages (from spacy<3.5.0,>=3.4.0->fr-core-news-sm==3.4.0) (4.64.1)\n",
            "Requirement already satisfied: wasabi<1.1.0,>=0.9.1 in /usr/local/lib/python3.8/dist-packages (from spacy<3.5.0,>=3.4.0->fr-core-news-sm==3.4.0) (0.10.1)\n",
            "Requirement already satisfied: spacy-legacy<3.1.0,>=3.0.10 in /usr/local/lib/python3.8/dist-packages (from spacy<3.5.0,>=3.4.0->fr-core-news-sm==3.4.0) (3.0.10)\n",
            "Requirement already satisfied: pydantic!=1.8,!=1.8.1,<1.11.0,>=1.7.4 in /usr/local/lib/python3.8/dist-packages (from spacy<3.5.0,>=3.4.0->fr-core-news-sm==3.4.0) (1.10.2)\n",
            "Requirement already satisfied: numpy>=1.15.0 in /usr/local/lib/python3.8/dist-packages (from spacy<3.5.0,>=3.4.0->fr-core-news-sm==3.4.0) (1.21.6)\n",
            "Requirement already satisfied: murmurhash<1.1.0,>=0.28.0 in /usr/local/lib/python3.8/dist-packages (from spacy<3.5.0,>=3.4.0->fr-core-news-sm==3.4.0) (1.0.9)\n",
            "Requirement already satisfied: preshed<3.1.0,>=3.0.2 in /usr/local/lib/python3.8/dist-packages (from spacy<3.5.0,>=3.4.0->fr-core-news-sm==3.4.0) (3.0.8)\n",
            "Requirement already satisfied: pyparsing!=3.0.5,>=2.0.2 in /usr/local/lib/python3.8/dist-packages (from packaging>=20.0->spacy<3.5.0,>=3.4.0->fr-core-news-sm==3.4.0) (3.0.9)\n",
            "Requirement already satisfied: smart-open<6.0.0,>=5.2.1 in /usr/local/lib/python3.8/dist-packages (from pathy>=0.3.5->spacy<3.5.0,>=3.4.0->fr-core-news-sm==3.4.0) (5.2.1)\n",
            "Requirement already satisfied: typing-extensions>=4.1.0 in /usr/local/lib/python3.8/dist-packages (from pydantic!=1.8,!=1.8.1,<1.11.0,>=1.7.4->spacy<3.5.0,>=3.4.0->fr-core-news-sm==3.4.0) (4.1.1)\n",
            "Requirement already satisfied: urllib3!=1.25.0,!=1.25.1,<1.26,>=1.21.1 in /usr/local/lib/python3.8/dist-packages (from requests<3.0.0,>=2.13.0->spacy<3.5.0,>=3.4.0->fr-core-news-sm==3.4.0) (1.24.3)\n",
            "Requirement already satisfied: chardet<4,>=3.0.2 in /usr/local/lib/python3.8/dist-packages (from requests<3.0.0,>=2.13.0->spacy<3.5.0,>=3.4.0->fr-core-news-sm==3.4.0) (3.0.4)\n",
            "Requirement already satisfied: idna<3,>=2.5 in /usr/local/lib/python3.8/dist-packages (from requests<3.0.0,>=2.13.0->spacy<3.5.0,>=3.4.0->fr-core-news-sm==3.4.0) (2.10)\n",
            "Requirement already satisfied: certifi>=2017.4.17 in /usr/local/lib/python3.8/dist-packages (from requests<3.0.0,>=2.13.0->spacy<3.5.0,>=3.4.0->fr-core-news-sm==3.4.0) (2022.9.24)\n",
            "Requirement already satisfied: confection<1.0.0,>=0.0.1 in /usr/local/lib/python3.8/dist-packages (from thinc<8.2.0,>=8.1.0->spacy<3.5.0,>=3.4.0->fr-core-news-sm==3.4.0) (0.0.3)\n",
            "Requirement already satisfied: blis<0.8.0,>=0.7.8 in /usr/local/lib/python3.8/dist-packages (from thinc<8.2.0,>=8.1.0->spacy<3.5.0,>=3.4.0->fr-core-news-sm==3.4.0) (0.7.9)\n",
            "Requirement already satisfied: click<9.0.0,>=7.1.1 in /usr/local/lib/python3.8/dist-packages (from typer<0.8.0,>=0.3.0->spacy<3.5.0,>=3.4.0->fr-core-news-sm==3.4.0) (7.1.2)\n",
            "Requirement already satisfied: MarkupSafe>=0.23 in /usr/local/lib/python3.8/dist-packages (from jinja2->spacy<3.5.0,>=3.4.0->fr-core-news-sm==3.4.0) (2.0.1)\n",
            "Installing collected packages: fr-core-news-sm\n",
            "Successfully installed fr-core-news-sm-3.4.0\n",
            "\u001b[33mWARNING: Running pip as the 'root' user can result in broken permissions and conflicting behaviour with the system package manager. It is recommended to use a virtual environment instead: https://pip.pypa.io/warnings/venv\u001b[0m\u001b[33m\n",
            "\u001b[0m\u001b[38;5;2m✔ Download and installation successful\u001b[0m\n",
            "You can now load the package via spacy.load('fr_core_news_sm')\n"
          ]
        }
      ]
    },
    {
      "cell_type": "markdown",
      "source": [
        "Plus de modèles Spacy entrainés sur : https://spacy.io/models "
      ],
      "metadata": {
        "id": "ZcllOZhKOFZf"
      }
    },
    {
      "cell_type": "markdown",
      "source": [
        "**Chargement d'un extrait du premier chapiture de Bel Ami de Maupassant.**\n"
      ],
      "metadata": {
        "id": "Hx4PNnqVxTWx"
      }
    },
    {
      "cell_type": "markdown",
      "source": [
        "**1. Annotation automatiquement en noms de lieux (LOC) et de personnes (PERS) du texte en entrée en s'appuyant sur le modèle pour le français \"fr_core_news_sm\" proposé par Spacy**"
      ],
      "metadata": {
        "id": "Myo_fio_ydfy"
      }
    },
    {
      "cell_type": "code",
      "source": [
        "import spacy\n",
        "import json\n",
        "import requests\n",
        "import os\n",
        "\n",
        "def get_class_id(label):\n",
        "  \"\"\"\n",
        "  Translates the spaCy label id into the tagtog entity type id\n",
        "  - label: spaCy label id\n",
        "  \"\"\"\n",
        "  choices = {'PER': 'e_1', 'LOC': 'e_2', 'GPE': 'e_2'}\n",
        "  return choices.get(label, None)\n",
        "\n",
        "def get_entities(spans, pipeline):\n",
        "  \"\"\"\n",
        "  Translates a tuple of named entity Span objects (https://spacy.io/api/span) into a \n",
        "  list of tagtog entities (https://docs.tagtog.net/anndoc.html#ann-json). Each entity is\n",
        "  defined by the entity type ID (classId), the part name where the annotation is (part),\n",
        "  the entity offsets and the confidence (annotation status, who created it and probabilty).\n",
        "  - spans: the named entities in the spaCy doc\n",
        "  - pipeline: trained pipeline name\n",
        "  \"\"\"\n",
        "  default_prob = 1\n",
        "  default_part_id = 's1v1'\n",
        "  default_state = 'pre-added'\n",
        "  tagtog_entities = []\n",
        "  for span in spans:\n",
        "    class_id = get_class_id(span.label_)\n",
        "    if class_id is not None:\n",
        "      tagtog_entities.append( {\n",
        "        'classId': class_id,\n",
        "        'part': default_part_id,\n",
        "        'offsets':[{'start': span.start_char, 'text': span.text}],\n",
        "        'confidence': {'state': default_state,'who': ['ml:' + pipeline],'prob': default_prob},\n",
        "        'fields':{},\n",
        "        # this is related to the kb_id (knowledge base ID) field from the Span spaCy object\n",
        "        'normalizations': {}} )\n",
        "  return tagtog_entities\n"
      ],
      "metadata": {
        "id": "UiZpEoo-d9Ic"
      },
      "execution_count": 5,
      "outputs": []
    },
    {
      "cell_type": "code",
      "source": [
        "def read_text(file_name):\n",
        "  with open (file_name, \"r\", encoding=\"utf_8\") as myfile:\n",
        "    lines = list(line for line in (l.strip() for l in myfile) if line)\n",
        "    return str(lines)\n",
        "\n",
        "text = read_text(\"coursTAL/2022/belAmi_01-01.txt\")\n",
        "\n",
        "pipeline = 'fr_core_news_sm' \n",
        "nlp = spacy.load(pipeline)\n",
        "doc = nlp(text)\n",
        "\n",
        "def show_ents(doc): \n",
        "    if doc.ents: \n",
        "        for ent in doc.ents: \n",
        "            print(ent.text+' - ' +str(ent.start_char) +' - '+ str(ent.end_char) +' - '+ent.label_+ ' - '+str(spacy.explain(ent.label_))) \n",
        "            print(\"\\n\")             \n",
        "show_ents(doc)\n"
      ],
      "metadata": {
        "id": "gHOhOZci0vyC",
        "colab": {
          "base_uri": "https://localhost:8080/"
        },
        "outputId": "538f2050-03ca-4140-ae6e-8c0f5807f303"
      },
      "execution_count": 6,
      "outputs": [
        {
          "output_type": "stream",
          "name": "stdout",
          "text": [
            "PREMIÈRE PARTIE - 2 - 17 - ORG - Companies, agencies, institutions, etc.\n",
            "\n",
            "\n",
            "I - 22 - 23 - LOC - Non-GPE locations, mountain ranges, bodies of water\n",
            "\n",
            "\n",
            "Quand la caissière - 27 - 45 - MISC - Miscellaneous entities, e.g. events, nationalities, products or works of art\n",
            "\n",
            "\n",
            "Georges Duroy - 97 - 110 - PER - Named person or family.\n",
            "\n",
            "\n",
            "joli garçon - 366 - 377 - PER - Named person or family.\n",
            "\n",
            "\n",
            "rue Notre-Dame-de-Lorette - 1386 - 1411 - LOC - Non-GPE locations, mountain ranges, bodies of water\n",
            "\n",
            "\n",
            "Quoique habillé d’un complet - 1967 - 1995 - ORG - Companies, agencies, institutions, etc.\n",
            "\n",
            "\n",
            "Paris - 2473 - 2478 - LOC - Non-GPE locations, mountain ranges, bodies of water\n",
            "\n",
            "\n",
            "Georges Duroy - 2981 - 2994 - PER - Named person or family.\n",
            "\n",
            "\n",
            "Champs-Élysées - 3112 - 3126 - MISC - Miscellaneous entities, e.g. events, nationalities, products or works of art\n",
            "\n",
            "\n",
            "bois de Boulogne - 3142 - 3158 - LOC - Non-GPE locations, mountain ranges, bodies of water\n",
            "\n",
            "\n",
            "Comment - 3281 - 3288 - LOC - Non-GPE locations, mountain ranges, bodies of water\n",
            "\n",
            "\n",
            "Venez - 3673 - 3678 - LOC - Non-GPE locations, mountain ranges, bodies of water\n",
            "\n",
            "\n",
            "joli garçon - 3694 - 3705 - PER - Named person or family.\n",
            "\n",
            "\n",
            "Madeleine - 4175 - 4184 - PER - Named person or family.\n",
            "\n",
            "\n",
            "Duroy - 4685 - 4690 - LOC - Non-GPE locations, mountain ranges, bodies of water\n",
            "\n",
            "\n",
            "l’Américain - 5130 - 5141 - ORG - Companies, agencies, institutions, etc.\n",
            "\n",
            "\n",
            "j’ai soif - 5164 - 5173 - MISC - Miscellaneous entities, e.g. events, nationalities, products or works of art\n",
            "\n",
            "\n",
            "d’un coup - 5391 - 5400 - MISC - Miscellaneous entities, e.g. events, nationalities, products or works of art\n",
            "\n",
            "\n",
            "l’ - 5421 - 5423 - MISC - Miscellaneous entities, e.g. events, nationalities, products or works of art\n",
            "\n",
            "\n",
            "louis - 5685 - 5690 - PER - Named person or family.\n",
            "\n",
            "\n",
            "louis - 5749 - 5754 - PER - Named person or family.\n",
            "\n",
            "\n",
            "l’ombre bien noire - 5898 - 5916 - MISC - Miscellaneous entities, e.g. events, nationalities, products or works of art\n",
            "\n",
            "\n",
            "Arabes - 6126 - 6132 - MISC - Miscellaneous entities, e.g. events, nationalities, products or works of art\n",
            "\n",
            "\n",
            "du Sud - 6156 - 6162 - LOC - Non-GPE locations, mountain ranges, bodies of water\n",
            "\n",
            "\n",
            "Ouled-Alane - 6293 - 6304 - LOC - Non-GPE locations, mountain ranges, bodies of water\n",
            "\n",
            "\n",
            "qu’on n’avait guère - 6471 - 6490 - MISC - Miscellaneous entities, e.g. events, nationalities, products or works of art\n",
            "\n",
            "\n",
            "Arabe - 6514 - 6519 - MISC - Miscellaneous entities, e.g. events, nationalities, products or works of art\n",
            "\n",
            "\n",
            "Paris - 6584 - 6589 - LOC - Non-GPE locations, mountain ranges, bodies of water\n",
            "\n",
            "\n",
            "c’était autre chose - 6591 - 6610 - MISC - Miscellaneous entities, e.g. events, nationalities, products or works of art\n",
            "\n",
            "\n",
            "c’était du propre - 6968 - 6985 - MISC - Miscellaneous entities, e.g. events, nationalities, products or works of art\n",
            "\n",
            "\n",
            "Vaudeville - 7464 - 7474 - LOC - Non-GPE locations, mountain ranges, bodies of water\n",
            "\n",
            "\n",
            "Café Américain - 7499 - 7513 - LOC - Non-GPE locations, mountain ranges, bodies of water\n",
            "\n",
            "\n",
            "jusqu’à la Madeleine - 7866 - 7886 - MISC - Miscellaneous entities, e.g. events, nationalities, products or works of art\n",
            "\n",
            "\n",
            "l’Opéra - 7978 - 7985 - ORG - Companies, agencies, institutions, etc.\n",
            "\n",
            "\n",
            "Forestier - 8445 - 8454 - PER - Named person or family.\n",
            "\n",
            "\n",
            "Duroy - 8617 - 8622 - LOC - Non-GPE locations, mountain ranges, bodies of water\n",
            "\n",
            "\n",
            "— Non - 8672 - 8677 - PER - Named person or family.\n",
            "\n",
            "\n",
            "Georges Duroy - 8684 - 8697 - PER - Named person or family.\n",
            "\n",
            "\n",
            "Forestier - 8717 - 8726 - PER - Named person or family.\n",
            "\n",
            "\n",
            "Ah ! - 8756 - 8760 - MISC - Miscellaneous entities, e.g. events, nationalities, products or works of art\n",
            "\n",
            "\n",
            "Oh ! - 8820 - 8824 - MISC - Miscellaneous entities, e.g. events, nationalities, products or works of art\n",
            "\n",
            "\n",
            "Bougival - 8980 - 8988 - LOC - Non-GPE locations, mountain ranges, bodies of water\n",
            "\n",
            "\n",
            "Paris - 9014 - 9019 - LOC - Non-GPE locations, mountain ranges, bodies of water\n",
            "\n",
            "\n",
            "l’air solide - 9069 - 9081 - ORG - Companies, agencies, institutions, etc.\n",
            "\n",
            "\n",
            "Et Forestier - 9096 - 9108 - PER - Named person or family.\n",
            "\n",
            "\n",
            "Midi - 9345 - 9349 - LOC - Non-GPE locations, mountain ranges, bodies of water\n",
            "\n",
            "\n",
            "Vie Française - 9463 - 9476 - MISC - Miscellaneous entities, e.g. events, nationalities, products or works of art\n",
            "\n",
            "\n",
            "Sénat au Salut - 9489 - 9503 - ORG - Companies, agencies, institutions, etc.\n",
            "\n",
            "\n",
            "Planète - 9563 - 9570 - MISC - Miscellaneous entities, e.g. events, nationalities, products or works of art\n",
            "\n",
            "\n",
            "j’ai fait mon chemin - 9579 - 9599 - MISC - Miscellaneous entities, e.g. events, nationalities, products or works of art\n",
            "\n",
            "\n",
            "Duroy - 9604 - 9609 - MISC - Miscellaneous entities, e.g. events, nationalities, products or works of art\n",
            "\n",
            "\n",
            "Paris - 9901 - 9906 - LOC - Non-GPE locations, mountain ranges, bodies of water\n",
            "\n",
            "\n",
            "Forestier - 10059 - 10068 - PER - Named person or family.\n",
            "\n",
            "\n",
            "Duroy - 10099 - 10104 - LOC - Non-GPE locations, mountain ranges, bodies of water\n",
            "\n",
            "\n",
            "Nulle - 10121 - 10126 - LOC - Non-GPE locations, mountain ranges, bodies of water\n",
            "\n",
            "\n",
            "Eh - 10172 - 10174 - LOC - Non-GPE locations, mountain ranges, bodies of water\n",
            "\n",
            "\n",
            "Vie Française - 10208 - 10221 - MISC - Miscellaneous entities, e.g. events, nationalities, products or works of art\n",
            "\n",
            "\n",
            "'— Qu’ - 10475 - 10481 - LOC - Non-GPE locations, mountain ranges, bodies of water\n",
            "\n",
            "\n",
            "Paris - 10502 - 10507 - LOC - Non-GPE locations, mountain ranges, bodies of water\n",
            "\n",
            "\n",
            "Duroy - 10528 - 10533 - LOC - Non-GPE locations, mountain ranges, bodies of water\n",
            "\n",
            "\n",
            "Je crève de faim - 10560 - 10576 - MISC - Miscellaneous entities, e.g. events, nationalities, products or works of art\n",
            "\n",
            "\n",
            "j’ai voulu - 10620 - 10630 - MISC - Miscellaneous entities, e.g. events, nationalities, products or works of art\n",
            "\n",
            "\n",
            "Paris - 10689 - 10694 - LOC - Non-GPE locations, mountain ranges, bodies of water\n",
            "\n",
            "\n",
            "du Nord - 10764 - 10771 - LOC - Non-GPE locations, mountain ranges, bodies of water\n",
            "\n",
            "\n",
            "Forestier murmura - 10820 - 10837 - PER - Named person or family.\n",
            "\n",
            "\n",
            "Vois-tu - 11197 - 11204 - LOC - Non-GPE locations, mountain ranges, bodies of water\n",
            "\n",
            "\n",
            "n’as-tu pas - 11381 - 11392 - LOC - Non-GPE locations, mountain ranges, bodies of water\n",
            "\n",
            "\n",
            "Nord - 11432 - 11436 - LOC - Non-GPE locations, mountain ranges, bodies of water\n",
            "\n",
            "\n",
            "Duroy - 11442 - 11447 - LOC - Non-GPE locations, mountain ranges, bodies of water\n",
            "\n",
            "\n",
            "manège - 11592 - 11598 - LOC - Non-GPE locations, mountain ranges, bodies of water\n",
            "\n",
            "\n",
            "Forestier - 11657 - 11666 - MISC - Miscellaneous entities, e.g. events, nationalities, products or works of art\n",
            "\n",
            "\n",
            "— - 11685 - 11686 - PER - Named person or family.\n",
            "\n",
            "\n",
            "Ne fais pas ça, - 11687 - 11702 - MISC - Miscellaneous entities, e.g. events, nationalities, products or works of art\n",
            "\n",
            "\n",
            "c’est stupide - 11703 - 11716 - MISC - Miscellaneous entities, e.g. events, nationalities, products or works of art\n",
            "\n",
            "\n",
            "c’ - 11930 - 11932 - MISC - Miscellaneous entities, e.g. events, nationalities, products or works of art\n",
            "\n",
            "\n",
            "d’hôtel - 11973 - 11980 - PER - Named person or family.\n",
            "\n",
            "\n",
            "Tout-Paris - 12000 - 12010 - LOC - Non-GPE locations, mountain ranges, bodies of water\n",
            "\n",
            "\n",
            "— Non - 12254 - 12259 - PER - Named person or family.\n",
            "\n",
            "\n",
            "Ça - 12289 - 12291 - MISC - Miscellaneous entities, e.g. events, nationalities, products or works of art\n",
            "\n",
            "\n",
            "Cicéron - 12374 - 12381 - PER - Named person or family.\n",
            "\n",
            "\n",
            "Tibère - 12388 - 12394 - PER - Named person or family.\n",
            "\n",
            "\n",
            "Ça - 12580 - 12582 - MISC - Miscellaneous entities, e.g. events, nationalities, products or works of art\n",
            "\n",
            "\n",
            "l’obstacle - 12747 - 12757 - MISC - Miscellaneous entities, e.g. events, nationalities, products or works of art\n",
            "\n",
            "\n",
            "Il parlait en gaillard - 12886 - 12908 - MISC - Miscellaneous entities, e.g. events, nationalities, products or works of art\n",
            "\n",
            "\n",
            "Oh ! - 13200 - 13204 - MISC - Miscellaneous entities, e.g. events, nationalities, products or works of art\n",
            "\n",
            "\n",
            "j’irai me guérir - 13216 - 13232 - MISC - Miscellaneous entities, e.g. events, nationalities, products or works of art\n",
            "\n",
            "\n",
            "Menton - 13235 - 13241 - PER - Named person or family.\n",
            "\n",
            "\n",
            "boulevard Poissonnière - 13303 - 13325 - LOC - Non-GPE locations, mountain ranges, bodies of water\n",
            "\n",
            "\n",
            "La Vie Française - 13578 - 13594 - MISC - Miscellaneous entities, e.g. events, nationalities, products or works of art\n",
            "\n",
            "\n",
            "Forestier - 13825 - 13834 - PER - Named person or family.\n",
            "\n",
            "\n",
            "— - 13859 - 13860 - PER - Named person or family.\n",
            "\n",
            "\n",
            "Duroy - 13879 - 13884 - LOC - Non-GPE locations, mountain ranges, bodies of water\n",
            "\n",
            "\n",
            "Assieds-toi - 14234 - 14245 - LOC - Non-GPE locations, mountain ranges, bodies of water\n",
            "\n",
            "\n",
            "Forestier - 14251 - 14260 - PER - Named person or family.\n",
            "\n",
            "\n",
            "Une odeur étrange, particulière - 14370 - 14401 - MISC - Miscellaneous entities, e.g. events, nationalities, products or works of art\n",
            "\n",
            "\n",
            "Duroy - 14473 - 14478 - LOC - Non-GPE locations, mountain ranges, bodies of water\n",
            "\n",
            "\n",
            "l’air - 14731 - 14736 - ORG - Companies, agencies, institutions, etc.\n",
            "\n",
            "\n",
            "l’ - 15246 - 15248 - MISC - Miscellaneous entities, e.g. events, nationalities, products or works of art\n",
            "\n",
            "\n",
            "D’autres - 15363 - 15371 - PER - Named person or family.\n",
            "\n",
            "\n",
            "Forestier - 15516 - 15525 - PER - Named person or family.\n",
            "\n",
            "\n",
            "Forestier - 15740 - 15749 - PER - Named person or family.\n",
            "\n",
            "\n",
            "— Adieu - 15763 - 15770 - PER - Named person or family.\n",
            "\n",
            "\n",
            "— - 15819 - 15820 - PER - Named person or family.\n",
            "\n",
            "\n",
            "Duroy - 15913 - 15918 - LOC - Non-GPE locations, mountain ranges, bodies of water\n",
            "\n",
            "\n",
            "Jacques Rival - 15958 - 15971 - PER - Named person or family.\n",
            "\n",
            "\n",
            "Montel - 16061 - 16067 - ORG - Companies, agencies, institutions, etc.\n",
            "\n",
            "\n",
            "Paris - 16153 - 16158 - LOC - Non-GPE locations, mountain ranges, bodies of water\n",
            "\n",
            "\n",
            "Forestier - 16380 - 16389 - PER - Named person or family.\n",
            "\n",
            "\n",
            "Norbert de Varenne - 16412 - 16430 - PER - Named person or family.\n",
            "\n",
            "\n",
            "Soleils - 16463 - 16470 - LOC - Non-GPE locations, mountain ranges, bodies of water\n",
            "\n",
            "\n",
            "Napolitain - 16635 - 16645 - LOC - Non-GPE locations, mountain ranges, bodies of water\n",
            "\n",
            "\n",
            "Dès - 16680 - 16683 - MISC - Miscellaneous entities, e.g. events, nationalities, products or works of art\n",
            "\n",
            "\n",
            "Forestier cria - 16729 - 16743 - PER - Named person or family.\n",
            "\n",
            "\n",
            "Duroy - 16810 - 16815 - LOC - Non-GPE locations, mountain ranges, bodies of water\n",
            "\n",
            "\n",
            "Bah - 17136 - 17139 - LOC - Non-GPE locations, mountain ranges, bodies of water\n",
            "\n",
            "\n",
            "j’en parle - 17356 - 17366 - MISC - Miscellaneous entities, e.g. events, nationalities, products or works of art\n",
            "\n",
            "\n",
            "— Alors - 17426 - 17433 - PER - Named person or family.\n",
            "\n",
            "\n",
            "M. Walter - 17530 - 17539 - PER - Named person or family.\n",
            "\n",
            "\n",
            "Jacques Rival - 17551 - 17564 - PER - Named person or family.\n",
            "\n",
            "\n",
            "Norbert de Varenne - 17568 - 17586 - PER - Named person or family.\n",
            "\n",
            "\n",
            "Mme Forestier - 17627 - 17640 - PER - Named person or family.\n",
            "\n",
            "\n"
          ]
        }
      ]
    },
    {
      "cell_type": "markdown",
      "source": [
        "**2. transfer du texte annoté vers l'outil d'annotation TagTog via leur API REST afin de corriger manuellement les annotations**\n",
        "\n",
        "Au préalable, il faut créer un compte utilisateur et un projet dans TagTog (https://www.tagtog.com/) et modifier les informations de connexion ci-dessous.\n",
        "\n",
        "Lors de la configuration (settings) de votre projet sur TagTog, dans la rubrique entities, il faut déclarer les trois catégories d'entités pour l'exercice (dans cet ordre là) :  **Personnages**, **Lieux** et **Misc** "
      ],
      "metadata": {
        "id": "lNch1ozT12my"
      }
    },
    {
      "cell_type": "code",
      "source": [
        "# Set the credentials at tagtog and project name\n",
        "MY_USERNAME = 'cvbrandoe'\n",
        "MY_PASSWORD = 'talEHESS'\n",
        "MY_PROJECT = 'CoursENTAL'\n",
        "\n",
        "# API authentication\n",
        "tagtogAPIUrl = \"https://www.tagtog.com/-api/documents/v1\"\n",
        "auth = requests.auth.HTTPBasicAuth(username=MY_USERNAME, password=MY_PASSWORD)\n",
        "\n",
        "# Initialize ann.json (specification: https://docs.tagtog.net/anndoc.html#ann-json)\n",
        "annjson = {}\n",
        "# Set the document as not confirmed, an annotator will manually confirm whether the annotations are correct\n",
        "annjson['anncomplete'] = False\n",
        "annjson['metas'] = {}\n",
        "annjson['relations'] = []                      \n",
        "# Transform the spaCy entities into tagtog entities\n",
        "annjson['entities'] = get_entities(doc.ents, pipeline)\n",
        "\n",
        "print(text)\n",
        "print(json.dumps(annjson))\n",
        "\n",
        "# Parameters for the API call \n",
        "# see https://docs.tagtog.net/API_documents_v1.html#examples-import-pre-annotated-plain-text-file\n",
        "params = {'owner': MY_USERNAME, 'project': MY_PROJECT, 'output': 'null', 'format': 'default-plus-annjson'}\n",
        "# Pre-annotated document composed of the content and the annotations\n",
        "files=[('BelAmi_extrait0101.txt', text), ('BelAmi_extrait0101.ann.json', json.dumps(annjson))]\n",
        "# POST request to send the pre-annotated document\n",
        "response = requests.post(tagtogAPIUrl, params=params, auth=auth, files=files)\n",
        "\n",
        "print(response.text)"
      ],
      "metadata": {
        "id": "PJeTbSWg0lUA",
        "colab": {
          "base_uri": "https://localhost:8080/"
        },
        "outputId": "f5a397b0-ae17-4a57-ba52-4efe33846da3"
      },
      "execution_count": 8,
      "outputs": [
        {
          "output_type": "stream",
          "name": "stdout",
          "text": [
            "['PREMIÈRE PARTIE.', 'I', 'Quand la caissière lui eut rendu la monnaie de sa pièce de cent sous, Georges Duroy sortit du restaurant.', 'Comme il portait beau, par nature et par pose d’ancien sous-officier, il cambra sa taille, frisa sa moustache d’un geste militaire et familier, et jeta sur les dîneurs attardés un regard rapide et circulaire, un de ces regards de joli garçon, qui s’étendent comme des coups d’épervier.', 'Les femmes avaient levé la tête vers lui, trois petites ouvrières, une maîtresse de musique entre deux âges, mal peignée, négligée, coiffée d’un chapeau toujours poussiéreux et vêtue d’une robe toujours de travers, et deux bourgeoises avec leurs maris, habituées de cette gargote à prix fixe.', 'Lorsqu’il fut sur le trottoir, il demeura un instant immobile, se demandant ce qu’il allait faire. On était au 28 juin, et il lui restait juste en poche trois francs quarante pour finir le mois. Cela représentait deux dîners sans déjeuners, ou deux déjeuners sans dîners, au choix. Il réfléchit que les repas du matin étant de vingt-deux sous, au lieu de trente que coûtaient ceux du soir, il lui resterait, en se contentant des déjeuners, un franc vingt centimes de boni, ce qui représentait encore deux collations au pain et au saucisson, plus deux bocks sur le boulevard. C’était là sa grande dépense et son grand plaisir des nuits ; et il se mit à descendre la rue Notre-Dame-de-Lorette.', 'Il marchait ainsi qu’au temps où il portait l’uniforme des hussards, la poitrine bombée, les jambes un peu entr’ouvertes comme s’il venait de descendre de cheval ; et il avançait brutalement dans la rue pleine de monde, heurtant les épaules, poussant les gens pour ne point se déranger de sa route. Il inclinait légèrement sur l’oreille son chapeau à haute forme assez défraîchi, et battait le pavé de son talon. Il avait l’air de toujours défier quelqu’un, les passants, les maisons, la ville entière, par chic de beau soldat tombé dans le civil.', 'Quoique habillé d’un complet de soixante francs, il gardait une certaine élégance tapageuse, un peu commune, réelle cependant. Grand, bien fait, blond, d’un blond châtain vaguement roussi, avec une moustache retroussée, qui semblait mousser sur sa lèvre, des yeux bleus, clairs, troués d’une pupille toute petite, des cheveux frisés naturellement, séparés par une raie au milieu du crâne, il ressemblait bien au mauvais sujet des romans populaires.', 'C’était une de ces soirées d’été où l’air manque dans Paris. La ville, chaude comme une étuve, paraissait suer dans la nuit étouffante. Les égouts soufflaient par leurs bouches de granit leurs haleines empestées, et les cuisines souterraines jetaient à la rue, par leurs fenêtres basses, les miasmes infâmes des eaux de vaisselle et des vieilles sauces.', 'Les concierges, en manches de chemise, à cheval sur des chaises en paille, fumaient la pipe sous des portes cochères, et les passants allaient d’un pas accablé, le front nu, le chapeau à la main.', 'Quand Georges Duroy parvint au boulevard, il s’arrêta encore, indécis sur ce qu’il allait faire. Il avait envie maintenant de gagner les Champs-Élysées et l’avenue du bois de Boulogne pour trouver un peu d’air frais sous les arbres ; mais un désir aussi le travaillait, celui d’une rencontre amoureuse.', 'Comment se présenterait-elle ? Il n’en savait rien, mais il l’attendait depuis trois mois, tous les jours, tous les soirs. Quelquefois cependant, grâce à sa belle mine et à sa tournure galante, il volait, par-ci, par-là, un peu d’amour, mais il espérait toujours plus et mieux.', 'La poche vide et le sang bouillant, il s’allumait au contact des rôdeuses qui murmurent à l’angle des rues : « Venez-vous chez moi, joli garçon ? » mais il n’osait les suivre ne les pouvant payer ; et il attendait aussi autre chose, d’autres baisers moins vulgaires.', 'Il aimait cependant les lieux où grouillent les filles publiques, leurs bals, leurs cafés, leurs rues ; il aimait les coudoyer, leur parler, les tutoyer, flairer leurs parfums violents, se sentir près d’elles. C’étaient des femmes enfin, des femmes d’amour. Il ne les méprisait point du mépris inné des hommes de famille.', 'Il tourna vers la Madeleine et suivit le flot de foule qui coulait accablée par la chaleur. Les grands cafés, pleins de monde, débordaient sur le trottoir, étalant leur public de buveurs sous la lumière éclatante et crue de leur devanture illuminée. Devant eux, sur de petites tables carrées ou rondes, les verres contenaient des liquides rouges, jaunes, verts, bruns, de toutes les nuances ; et dans l’intérieur des carafes on voyait briller les gros cylindres transparents de glace qui refroidissaient la belle eau claire.', 'Duroy avait ralenti sa marche, et l’envie de boire lui séchait la gorge.', 'Une soif chaude, une soif de soir d’été le tenait, et il pensait à la sensation délicieuse des boissons froides coulant dans la bouche. Mais s’il buvait seulement deux bocks dans la soirée, adieu le maigre souper du lendemain, et il les connaissait trop, les heures affamées de la fin du mois.', 'Il se dit : « Il faut que je gagne dix heures et je prendrai mon bock à l’Américain. Nom d’un chien ! que j’ai soif tout de même ! » Et il regardait tous ces hommes attablés et buvant, tous ces hommes qui pouvaient se désaltérer tant qu’il leur plaisait. Il allait, passant devant les cafés d’un air crâne et gaillard, et il jugeait d’un coup d’œil, à la mine, à l’habit, ce que chaque consommateur devait porter d’argent sur lui. Et une colère l’envahissait contre ces gens assis et tranquilles. En fouillant leurs poches, on trouverait de l’or, de la monnaie blanche et des sous. En moyenne chacun devait avoir au moins deux louis ; ils étaient bien une centaine par café ; cent fois deux louis font quatre mille francs ! Il murmurait : « Les cochons ! » tout en se dandinant avec grâce. S’il avait pu en tenir un au coin d’une rue, dans l’ombre bien noire, il lui aurait tordu le cou, ma foi, sans scrupule, comme il faisait aux volailles des paysans, aux jours de grandes manœuvres.', 'Et il se rappelait ses deux années d’Afrique, la façon dont il rançonnait les Arabes dans les petits postes du Sud. Et un sourire cruel et gai passa sur ses lèvres au souvenir d’une escapade qui avait coûté la vie à trois hommes de la tribu des Ouled-Alane et qui leur avait valu, à ses camarades et à lui, vingt poules, deux moutons et de l’or, et de quoi rire pendant six mois.', 'On n’avait jamais trouvé les coupables, qu’on n’avait guère cherchés d’ailleurs, l’Arabe étant un peu considéré comme la proie naturelle du soldat.', 'À Paris, c’était autre chose. On ne pouvait pas marauder gentiment, sabre au côté et revolver au poing, loin de la justice civile, en liberté. Il se sentait au cœur tous les instincts du sous-off lâché en pays conquis. Certes il les regrettait, ses deux années de désert. Quel dommage de n’être pas resté là-bas ! Mais voilà, il avait espéré mieux en revenant. Et maintenant !… Ah oui, c’était du propre, maintenant !', 'Il faisait aller sa langue dans sa bouche, avec un petit claquement, comme pour constater la sécheresse de son palais.', 'La foule glissait autour de lui, exténuée et lente, et il pensait toujours : « Tas de brutes ! tous ces imbéciles-là ont des sous dans le gilet ». Il bousculait les gens de l’épaule, et sifflotait des airs joyeux. Des messieurs heurtés se retournaient en grognant ; des femmes prononçaient : « En voilà un animal ! »', 'Il passa devant le Vaudeville, et s’arrêta en face du Café Américain, se demandant s’il n’allait pas prendre son bock, tant la soif le torturait. Avant de se décider il regarda l’heure aux horloges lumineuses, au milieu de la chaussée. Il était neuf heures un quart. Il se connaissait : dès que le verre plein de bière serait devant lui, il l’avalerait. Que ferait-il ensuite jusqu’à onze heures ?', 'Il passa : « J’irai jusqu’à la Madeleine, se dit-il, et je reviendrai tout doucement. »', 'Comme il arrivait au coin de la place de l’Opéra, il croisa un gros jeune homme, dont il se rappela vaguement avoir vu la tête quelque part.', 'Il se mit à le suivre en cherchant dans ses souvenirs, et répétant à mi-voix : « Où diable ai-je connu ce particulier-là ? »', 'Il fouillait dans sa pensée, sans parvenir à se le rappeler ; puis, tout d’un coup, par un singulier phénomène de mémoire, le même homme lui apparut moins gros, plus jeune, vêtu d’un uniforme de hussard. Il s’écria tout haut : « Tiens, Forestier ! » et, allongeant le pas, il alla frapper sur l’épaule du marcheur. L’autre se retourna, le regarda, puis dit :', '— Qu’est-ce que vous me voulez, monsieur ?', 'Duroy se mit à rire :', '— Tu ne me reconnais pas ?', '— Non.', '— Georges Duroy du 6e hussards.', 'Forestier tendit les deux mains :', '— Ah ! mon vieux ! comment vas-tu ?', '— Très bien, et toi ?', '— Oh ! moi, pas trop ; figure-toi que j’ai une poitrine de papier mâché maintenant ; je tousse six mois sur douze, à la suite d’une bronchite que j’ai attrapée à Bougival, l’année de mon retour à Paris, voici quatre ans maintenant.', '— Tiens ! tu as l’air solide, pourtant.', 'Et Forestier, prenant le bras de son ancien camarade, lui parla de sa maladie, lui raconta les consultations, les opinions et les conseils des médecins, la difficulté de suivre leurs avis dans sa position. On lui ordonnait de passer l’hiver dans le Midi ; mais le pouvait-il ? Il était marié et journaliste, dans une belle situation.', '— Je dirige la politique à la Vie Française. Je fais le Sénat au Salut, et, de temps en temps, des chroniques littéraires pour la Planète. Voilà, j’ai fait mon chemin.', 'Duroy, surpris, le regardait. Il était bien changé, bien mûri. Il avait maintenant une allure, une tenue, un costume d’homme posé, sûr de lui, et un ventre d’homme qui dîne bien. Autrefois il était maigre, mince et souple, étourdi, casseur d’assiettes, tapageur et toujours en train. En trois ans Paris en avait fait quelqu’un de tout autre, de gros et sérieux, avec quelques cheveux blancs sur les tempes, bien qu’il n’eût pas plus de vingt-sept ans.', 'Forestier demanda :', '— Où vas-tu ?', 'Duroy répondit :', '— Nulle part, je fais un tour avant de rentrer.', '— Eh bien, veux-tu m’accompagner à la Vie Française, où j’ai des épreuves à corriger ; puis nous irons prendre un bock ensemble ?', '— Je te suis.', 'Et ils se mirent à marcher en se tenant par le bras, avec cette familiarité facile qui subsiste entre compagnons d’école et entre camarades de régiment.', '— Qu’est-ce que tu fais à Paris ? dit Forestier.', 'Duroy haussa les épaules :', '— Je crève de faim, tout simplement. Une fois mon temps fini, j’ai voulu venir ici pour… pour faire fortune ou plutôt pour vivre à Paris ; et voilà six mois que je suis employé aux bureaux du chemin de fer du Nord, à quinze cents francs par an, rien de plus.', 'Forestier murmura :', '— Bigre, ça n’est pas gras.', '— Je te crois. Mais comment veux-tu que je m’en tire ? Je suis seul, je ne connais personne, je ne peux me recommander de personne. Ce n’est pas la bonne volonté qui me manque, mais les moyens.', 'Son camarade le regarda des pieds à la tête, en homme pratique, qui juge un sujet, puis il prononça d’un ton convaincu :', '— Vois-tu, mon petit, tout dépend de l’aplomb, ici. Un homme un peu malin devient plus facilement ministre que chef de bureau. Il faut s’imposer et non pas demander. Mais comment diable n’as-tu pas trouvé mieux qu’une place d’employé au Nord ?', 'Duroy reprit :', '— J’ai cherché partout, et je n’ai rien découvert. Mais j’ai quelque chose en vue en ce moment, on m’offre d’entrer comme écuyer au manège Pellerin. Là, j’aurai, au bas mot, trois mille francs.', 'Forestier s’arrêta net :', '— Ne fais pas ça, c’est stupide, quand tu devrais gagner dix mille francs. Tu te fermes l’avenir du coup. Dans ton bureau, au moins tu es caché, personne ne te connaît, tu peux en sortir si tu es fort, et faire ton chemin. Mais une fois écuyer, c’est fini. C’est comme si tu étais maître d’hôtel dans une maison où Tout-Paris va dîner. Quand tu auras donné des leçons d’équitation aux hommes du monde ou à leurs fils, ils ne pourront plus s’accoutumer à te considérer comme leur égal.', 'Il se tut, réfléchit quelques secondes, puis demanda :', '— Es-tu bachelier ?', '— Non. J’ai échoué deux fois.', '— Ça ne fait rien, du moment que tu as poussé tes études jusqu’au bout. Si on parle de Cicéron ou de Tibère, tu sais à peu près ce que c’est ?', '— Oui, à peu près.', '— Bon, personne n’en sait davantage, à l’exception d’une vingtaine d’imbéciles qui ne sont pas fichus de se tirer d’affaire. Ça n’est pas difficile de passer pour fort, va ; le tout est de ne pas se faire pincer en flagrant délit d’ignorance. On manœuvre, on esquive la difficulté, on tourne l’obstacle, et on colle les autres au moyen d’un dictionnaire. Tous les hommes sont bêtes comme des oies et ignorants comme des carpes.', 'Il parlait en gaillard tranquille qui connaît la vie, et il souriait en regardant passer la foule. Mais tout d’un coup il se mit à tousser, et s’arrêta pour laisser finir la quinte, puis, d’un ton découragé :', '— Est-ce pas assommant de ne pouvoir se débarrasser de cette bronchite ? Et nous sommes en plein été. Oh ! cet hiver, j’irai me guérir à Menton. Tant pis, ma foi, la santé avant tout.', 'Ils arrivèrent au boulevard Poissonnière, devant une grande porte vitrée, derrière laquelle un journal ouvert était collé sur les deux faces. Trois personnes arrêtées le lisaient.', 'Au-dessus de la porte s’étalait, comme un appel, en grandes lettres de feu dessinées par des flammes de gaz : La Vie Française. Et les promeneurs passant brusquement dans la clarté que jetaient ces trois mots éclatants apparaissaient tout à coup en pleine lumière, visibles, clairs et nets comme au milieu du jour, puis rentraient aussitôt dans l’ombre.', 'Forestier poussa cette porte :', '— Entre, dit-il.', 'Duroy entra, monta un escalier luxueux et sale que toute la rue voyait, parvint dans une antichambre, dont les deux garçons de bureau saluèrent son camarade, puis s’arrêta dans une sorte de salon d’attente, poussiéreux et fripé, tendu de faux velours d’un vert pisseux, criblé de taches et rongé par endroits, comme si des souris l’eussent grignoté.', '— Assieds-toi, dit Forestier, je reviens dans cinq minutes.', 'Et il disparut par une des trois sorties qui donnaient dans ce cabinet.', 'Une odeur étrange, particulière, inexprimable, l’odeur des salles de rédaction, flottait dans ce lieu. Duroy demeurait immobile, un peu intimidé, surpris surtout. De temps en temps des hommes passaient devant lui, en courant, entrés par une porte et partis par l’autre avant qu’il eût le temps de les regarder.', 'C’étaient tantôt des jeunes gens, très jeunes, l’air affairé, et tenant à la main une feuille de papier qui palpitait au vent de leur course ; tantôt des ouvriers compositeurs, dont la blouse de toile tachée d’encre laissait voir un col de chemise bien blanc et un pantalon de drap pareil à celui des gens du monde ; et ils portaient avec précaution des bandes de papier imprimé, des épreuves fraîches, tout humides. Quelquefois un petit monsieur entrait, vêtu avec une élégance trop apparente, la taille trop serrée dans la redingote, la jambe trop moulée sous l’étoffe, le pied étreint dans un soulier trop pointu, quelque reporter mondain apportant les échos de la soirée.', 'D’autres encore arrivaient, graves, importants, coiffés de hauts chapeaux à bords plats, comme si cette forme les eût distingués du reste des hommes.', 'Forestier reparut tenant par le bras un grand garçon maigre, de trente à quarante ans, en habit noir et en cravate blanche, très brun, la moustache roulée en pointes aiguës, et qui avait l’air insolent et content de lui.', 'Forestier lui dit :', '— Adieu, cher maître.', 'L’autre lui serra la main :', '— Au revoir, mon cher.', 'Et il descendit l’escalier en sifflotant, la canne sous le bras.', 'Duroy demanda :', '— Qui est-ce ?', '— C’est Jacques Rival, tu sais, le fameux chroniqueur, le duelliste. Il vient de corriger ses épreuves. Garin, Montel et lui sont les trois premiers chroniqueurs d’esprit et d’actualité que nous ayons à Paris. Il gagne ici trente mille francs par an pour deux articles par semaine.', 'Et comme ils s’en allaient, ils rencontrèrent un petit homme à longs cheveux, gros, d’aspect malpropre, qui montait les marches en soufflant.', 'Forestier salua très bas :', '— Norbert de Varenne, dit-il, le poète, l’auteur des Soleils morts, encore un homme dans les grands prix. Chaque conte qu’il nous donne coûte trois cents francs, et les plus longs n’ont pas deux cents lignes. Mais entrons au Napolitain, je commence à crever de soif.', 'Dès qu’ils furent assis devant la table du café, Forestier cria : « Deux bocks », et il avala le sien d’un seul trait, tandis que Duroy buvait la bière à lentes gorgées, la savourant et la dégustant, comme une chose précieuse et rare.', 'Son compagnon se taisait, semblait réfléchir, puis tout à coup :', '— Pourquoi n’essayerais-tu pas du journalisme ?', 'L’autre, surpris, le regarda ; puis il dit :', '— Mais… c’est que… je n’ai jamais rien écrit.', '— Bah ! on essaye, on commence. Moi, je pourrais t’employer à aller me chercher des renseignements, à faire des démarches et des visites. Tu aurais, au début, deux cent cinquante francs et tes voitures payées. Veux-tu que j’en parle au directeur ?', '— Mais certainement que je veux bien.', '— Alors, fais une chose, viens dîner chez moi demain ; j’ai cinq ou six personnes seulement, le patron, M. Walter, sa femme, Jacques Rival et Norbert de Varenne, que tu viens de voir, plus une amie de Mme Forestier. Est-ce entendu ?']\n",
            "{\"anncomplete\": false, \"metas\": {}, \"relations\": [], \"entities\": [{\"classId\": \"e_2\", \"part\": \"s1v1\", \"offsets\": [{\"start\": 22, \"text\": \"I\"}], \"confidence\": {\"state\": \"pre-added\", \"who\": [\"ml:fr_core_news_sm\"], \"prob\": 1}, \"fields\": {}, \"normalizations\": {}}, {\"classId\": \"e_1\", \"part\": \"s1v1\", \"offsets\": [{\"start\": 97, \"text\": \"Georges Duroy\"}], \"confidence\": {\"state\": \"pre-added\", \"who\": [\"ml:fr_core_news_sm\"], \"prob\": 1}, \"fields\": {}, \"normalizations\": {}}, {\"classId\": \"e_1\", \"part\": \"s1v1\", \"offsets\": [{\"start\": 366, \"text\": \"joli gar\\u00e7on\"}], \"confidence\": {\"state\": \"pre-added\", \"who\": [\"ml:fr_core_news_sm\"], \"prob\": 1}, \"fields\": {}, \"normalizations\": {}}, {\"classId\": \"e_2\", \"part\": \"s1v1\", \"offsets\": [{\"start\": 1386, \"text\": \"rue Notre-Dame-de-Lorette\"}], \"confidence\": {\"state\": \"pre-added\", \"who\": [\"ml:fr_core_news_sm\"], \"prob\": 1}, \"fields\": {}, \"normalizations\": {}}, {\"classId\": \"e_2\", \"part\": \"s1v1\", \"offsets\": [{\"start\": 2473, \"text\": \"Paris\"}], \"confidence\": {\"state\": \"pre-added\", \"who\": [\"ml:fr_core_news_sm\"], \"prob\": 1}, \"fields\": {}, \"normalizations\": {}}, {\"classId\": \"e_1\", \"part\": \"s1v1\", \"offsets\": [{\"start\": 2981, \"text\": \"Georges Duroy\"}], \"confidence\": {\"state\": \"pre-added\", \"who\": [\"ml:fr_core_news_sm\"], \"prob\": 1}, \"fields\": {}, \"normalizations\": {}}, {\"classId\": \"e_2\", \"part\": \"s1v1\", \"offsets\": [{\"start\": 3142, \"text\": \"bois de Boulogne\"}], \"confidence\": {\"state\": \"pre-added\", \"who\": [\"ml:fr_core_news_sm\"], \"prob\": 1}, \"fields\": {}, \"normalizations\": {}}, {\"classId\": \"e_2\", \"part\": \"s1v1\", \"offsets\": [{\"start\": 3281, \"text\": \"Comment\"}], \"confidence\": {\"state\": \"pre-added\", \"who\": [\"ml:fr_core_news_sm\"], \"prob\": 1}, \"fields\": {}, \"normalizations\": {}}, {\"classId\": \"e_2\", \"part\": \"s1v1\", \"offsets\": [{\"start\": 3673, \"text\": \"Venez\"}], \"confidence\": {\"state\": \"pre-added\", \"who\": [\"ml:fr_core_news_sm\"], \"prob\": 1}, \"fields\": {}, \"normalizations\": {}}, {\"classId\": \"e_1\", \"part\": \"s1v1\", \"offsets\": [{\"start\": 3694, \"text\": \"joli gar\\u00e7on\"}], \"confidence\": {\"state\": \"pre-added\", \"who\": [\"ml:fr_core_news_sm\"], \"prob\": 1}, \"fields\": {}, \"normalizations\": {}}, {\"classId\": \"e_1\", \"part\": \"s1v1\", \"offsets\": [{\"start\": 4175, \"text\": \"Madeleine\"}], \"confidence\": {\"state\": \"pre-added\", \"who\": [\"ml:fr_core_news_sm\"], \"prob\": 1}, \"fields\": {}, \"normalizations\": {}}, {\"classId\": \"e_2\", \"part\": \"s1v1\", \"offsets\": [{\"start\": 4685, \"text\": \"Duroy\"}], \"confidence\": {\"state\": \"pre-added\", \"who\": [\"ml:fr_core_news_sm\"], \"prob\": 1}, \"fields\": {}, \"normalizations\": {}}, {\"classId\": \"e_1\", \"part\": \"s1v1\", \"offsets\": [{\"start\": 5685, \"text\": \"louis\"}], \"confidence\": {\"state\": \"pre-added\", \"who\": [\"ml:fr_core_news_sm\"], \"prob\": 1}, \"fields\": {}, \"normalizations\": {}}, {\"classId\": \"e_1\", \"part\": \"s1v1\", \"offsets\": [{\"start\": 5749, \"text\": \"louis\"}], \"confidence\": {\"state\": \"pre-added\", \"who\": [\"ml:fr_core_news_sm\"], \"prob\": 1}, \"fields\": {}, \"normalizations\": {}}, {\"classId\": \"e_2\", \"part\": \"s1v1\", \"offsets\": [{\"start\": 6156, \"text\": \"du Sud\"}], \"confidence\": {\"state\": \"pre-added\", \"who\": [\"ml:fr_core_news_sm\"], \"prob\": 1}, \"fields\": {}, \"normalizations\": {}}, {\"classId\": \"e_2\", \"part\": \"s1v1\", \"offsets\": [{\"start\": 6293, \"text\": \"Ouled-Alane\"}], \"confidence\": {\"state\": \"pre-added\", \"who\": [\"ml:fr_core_news_sm\"], \"prob\": 1}, \"fields\": {}, \"normalizations\": {}}, {\"classId\": \"e_2\", \"part\": \"s1v1\", \"offsets\": [{\"start\": 6584, \"text\": \"Paris\"}], \"confidence\": {\"state\": \"pre-added\", \"who\": [\"ml:fr_core_news_sm\"], \"prob\": 1}, \"fields\": {}, \"normalizations\": {}}, {\"classId\": \"e_2\", \"part\": \"s1v1\", \"offsets\": [{\"start\": 7464, \"text\": \"Vaudeville\"}], \"confidence\": {\"state\": \"pre-added\", \"who\": [\"ml:fr_core_news_sm\"], \"prob\": 1}, \"fields\": {}, \"normalizations\": {}}, {\"classId\": \"e_2\", \"part\": \"s1v1\", \"offsets\": [{\"start\": 7499, \"text\": \"Caf\\u00e9 Am\\u00e9ricain\"}], \"confidence\": {\"state\": \"pre-added\", \"who\": [\"ml:fr_core_news_sm\"], \"prob\": 1}, \"fields\": {}, \"normalizations\": {}}, {\"classId\": \"e_1\", \"part\": \"s1v1\", \"offsets\": [{\"start\": 8445, \"text\": \"Forestier\"}], \"confidence\": {\"state\": \"pre-added\", \"who\": [\"ml:fr_core_news_sm\"], \"prob\": 1}, \"fields\": {}, \"normalizations\": {}}, {\"classId\": \"e_2\", \"part\": \"s1v1\", \"offsets\": [{\"start\": 8617, \"text\": \"Duroy\"}], \"confidence\": {\"state\": \"pre-added\", \"who\": [\"ml:fr_core_news_sm\"], \"prob\": 1}, \"fields\": {}, \"normalizations\": {}}, {\"classId\": \"e_1\", \"part\": \"s1v1\", \"offsets\": [{\"start\": 8672, \"text\": \"\\u2014 Non\"}], \"confidence\": {\"state\": \"pre-added\", \"who\": [\"ml:fr_core_news_sm\"], \"prob\": 1}, \"fields\": {}, \"normalizations\": {}}, {\"classId\": \"e_1\", \"part\": \"s1v1\", \"offsets\": [{\"start\": 8684, \"text\": \"Georges Duroy\"}], \"confidence\": {\"state\": \"pre-added\", \"who\": [\"ml:fr_core_news_sm\"], \"prob\": 1}, \"fields\": {}, \"normalizations\": {}}, {\"classId\": \"e_1\", \"part\": \"s1v1\", \"offsets\": [{\"start\": 8717, \"text\": \"Forestier\"}], \"confidence\": {\"state\": \"pre-added\", \"who\": [\"ml:fr_core_news_sm\"], \"prob\": 1}, \"fields\": {}, \"normalizations\": {}}, {\"classId\": \"e_2\", \"part\": \"s1v1\", \"offsets\": [{\"start\": 8980, \"text\": \"Bougival\"}], \"confidence\": {\"state\": \"pre-added\", \"who\": [\"ml:fr_core_news_sm\"], \"prob\": 1}, \"fields\": {}, \"normalizations\": {}}, {\"classId\": \"e_2\", \"part\": \"s1v1\", \"offsets\": [{\"start\": 9014, \"text\": \"Paris\"}], \"confidence\": {\"state\": \"pre-added\", \"who\": [\"ml:fr_core_news_sm\"], \"prob\": 1}, \"fields\": {}, \"normalizations\": {}}, {\"classId\": \"e_1\", \"part\": \"s1v1\", \"offsets\": [{\"start\": 9096, \"text\": \"Et Forestier\"}], \"confidence\": {\"state\": \"pre-added\", \"who\": [\"ml:fr_core_news_sm\"], \"prob\": 1}, \"fields\": {}, \"normalizations\": {}}, {\"classId\": \"e_2\", \"part\": \"s1v1\", \"offsets\": [{\"start\": 9345, \"text\": \"Midi\"}], \"confidence\": {\"state\": \"pre-added\", \"who\": [\"ml:fr_core_news_sm\"], \"prob\": 1}, \"fields\": {}, \"normalizations\": {}}, {\"classId\": \"e_2\", \"part\": \"s1v1\", \"offsets\": [{\"start\": 9901, \"text\": \"Paris\"}], \"confidence\": {\"state\": \"pre-added\", \"who\": [\"ml:fr_core_news_sm\"], \"prob\": 1}, \"fields\": {}, \"normalizations\": {}}, {\"classId\": \"e_1\", \"part\": \"s1v1\", \"offsets\": [{\"start\": 10059, \"text\": \"Forestier\"}], \"confidence\": {\"state\": \"pre-added\", \"who\": [\"ml:fr_core_news_sm\"], \"prob\": 1}, \"fields\": {}, \"normalizations\": {}}, {\"classId\": \"e_2\", \"part\": \"s1v1\", \"offsets\": [{\"start\": 10099, \"text\": \"Duroy\"}], \"confidence\": {\"state\": \"pre-added\", \"who\": [\"ml:fr_core_news_sm\"], \"prob\": 1}, \"fields\": {}, \"normalizations\": {}}, {\"classId\": \"e_2\", \"part\": \"s1v1\", \"offsets\": [{\"start\": 10121, \"text\": \"Nulle\"}], \"confidence\": {\"state\": \"pre-added\", \"who\": [\"ml:fr_core_news_sm\"], \"prob\": 1}, \"fields\": {}, \"normalizations\": {}}, {\"classId\": \"e_2\", \"part\": \"s1v1\", \"offsets\": [{\"start\": 10172, \"text\": \"Eh\"}], \"confidence\": {\"state\": \"pre-added\", \"who\": [\"ml:fr_core_news_sm\"], \"prob\": 1}, \"fields\": {}, \"normalizations\": {}}, {\"classId\": \"e_2\", \"part\": \"s1v1\", \"offsets\": [{\"start\": 10475, \"text\": \"'\\u2014 Qu\\u2019\"}], \"confidence\": {\"state\": \"pre-added\", \"who\": [\"ml:fr_core_news_sm\"], \"prob\": 1}, \"fields\": {}, \"normalizations\": {}}, {\"classId\": \"e_2\", \"part\": \"s1v1\", \"offsets\": [{\"start\": 10502, \"text\": \"Paris\"}], \"confidence\": {\"state\": \"pre-added\", \"who\": [\"ml:fr_core_news_sm\"], \"prob\": 1}, \"fields\": {}, \"normalizations\": {}}, {\"classId\": \"e_2\", \"part\": \"s1v1\", \"offsets\": [{\"start\": 10528, \"text\": \"Duroy\"}], \"confidence\": {\"state\": \"pre-added\", \"who\": [\"ml:fr_core_news_sm\"], \"prob\": 1}, \"fields\": {}, \"normalizations\": {}}, {\"classId\": \"e_2\", \"part\": \"s1v1\", \"offsets\": [{\"start\": 10689, \"text\": \"Paris\"}], \"confidence\": {\"state\": \"pre-added\", \"who\": [\"ml:fr_core_news_sm\"], \"prob\": 1}, \"fields\": {}, \"normalizations\": {}}, {\"classId\": \"e_2\", \"part\": \"s1v1\", \"offsets\": [{\"start\": 10764, \"text\": \"du Nord\"}], \"confidence\": {\"state\": \"pre-added\", \"who\": [\"ml:fr_core_news_sm\"], \"prob\": 1}, \"fields\": {}, \"normalizations\": {}}, {\"classId\": \"e_1\", \"part\": \"s1v1\", \"offsets\": [{\"start\": 10820, \"text\": \"Forestier murmura\"}], \"confidence\": {\"state\": \"pre-added\", \"who\": [\"ml:fr_core_news_sm\"], \"prob\": 1}, \"fields\": {}, \"normalizations\": {}}, {\"classId\": \"e_2\", \"part\": \"s1v1\", \"offsets\": [{\"start\": 11197, \"text\": \"Vois-tu\"}], \"confidence\": {\"state\": \"pre-added\", \"who\": [\"ml:fr_core_news_sm\"], \"prob\": 1}, \"fields\": {}, \"normalizations\": {}}, {\"classId\": \"e_2\", \"part\": \"s1v1\", \"offsets\": [{\"start\": 11381, \"text\": \"n\\u2019as-tu pas\"}], \"confidence\": {\"state\": \"pre-added\", \"who\": [\"ml:fr_core_news_sm\"], \"prob\": 1}, \"fields\": {}, \"normalizations\": {}}, {\"classId\": \"e_2\", \"part\": \"s1v1\", \"offsets\": [{\"start\": 11432, \"text\": \"Nord\"}], \"confidence\": {\"state\": \"pre-added\", \"who\": [\"ml:fr_core_news_sm\"], \"prob\": 1}, \"fields\": {}, \"normalizations\": {}}, {\"classId\": \"e_2\", \"part\": \"s1v1\", \"offsets\": [{\"start\": 11442, \"text\": \"Duroy\"}], \"confidence\": {\"state\": \"pre-added\", \"who\": [\"ml:fr_core_news_sm\"], \"prob\": 1}, \"fields\": {}, \"normalizations\": {}}, {\"classId\": \"e_2\", \"part\": \"s1v1\", \"offsets\": [{\"start\": 11592, \"text\": \"man\\u00e8ge\"}], \"confidence\": {\"state\": \"pre-added\", \"who\": [\"ml:fr_core_news_sm\"], \"prob\": 1}, \"fields\": {}, \"normalizations\": {}}, {\"classId\": \"e_1\", \"part\": \"s1v1\", \"offsets\": [{\"start\": 11685, \"text\": \"\\u2014\"}], \"confidence\": {\"state\": \"pre-added\", \"who\": [\"ml:fr_core_news_sm\"], \"prob\": 1}, \"fields\": {}, \"normalizations\": {}}, {\"classId\": \"e_1\", \"part\": \"s1v1\", \"offsets\": [{\"start\": 11973, \"text\": \"d\\u2019h\\u00f4tel\"}], \"confidence\": {\"state\": \"pre-added\", \"who\": [\"ml:fr_core_news_sm\"], \"prob\": 1}, \"fields\": {}, \"normalizations\": {}}, {\"classId\": \"e_2\", \"part\": \"s1v1\", \"offsets\": [{\"start\": 12000, \"text\": \"Tout-Paris\"}], \"confidence\": {\"state\": \"pre-added\", \"who\": [\"ml:fr_core_news_sm\"], \"prob\": 1}, \"fields\": {}, \"normalizations\": {}}, {\"classId\": \"e_1\", \"part\": \"s1v1\", \"offsets\": [{\"start\": 12254, \"text\": \"\\u2014 Non\"}], \"confidence\": {\"state\": \"pre-added\", \"who\": [\"ml:fr_core_news_sm\"], \"prob\": 1}, \"fields\": {}, \"normalizations\": {}}, {\"classId\": \"e_1\", \"part\": \"s1v1\", \"offsets\": [{\"start\": 12374, \"text\": \"Cic\\u00e9ron\"}], \"confidence\": {\"state\": \"pre-added\", \"who\": [\"ml:fr_core_news_sm\"], \"prob\": 1}, \"fields\": {}, \"normalizations\": {}}, {\"classId\": \"e_1\", \"part\": \"s1v1\", \"offsets\": [{\"start\": 12388, \"text\": \"Tib\\u00e8re\"}], \"confidence\": {\"state\": \"pre-added\", \"who\": [\"ml:fr_core_news_sm\"], \"prob\": 1}, \"fields\": {}, \"normalizations\": {}}, {\"classId\": \"e_1\", \"part\": \"s1v1\", \"offsets\": [{\"start\": 13235, \"text\": \"Menton\"}], \"confidence\": {\"state\": \"pre-added\", \"who\": [\"ml:fr_core_news_sm\"], \"prob\": 1}, \"fields\": {}, \"normalizations\": {}}, {\"classId\": \"e_2\", \"part\": \"s1v1\", \"offsets\": [{\"start\": 13303, \"text\": \"boulevard Poissonni\\u00e8re\"}], \"confidence\": {\"state\": \"pre-added\", \"who\": [\"ml:fr_core_news_sm\"], \"prob\": 1}, \"fields\": {}, \"normalizations\": {}}, {\"classId\": \"e_1\", \"part\": \"s1v1\", \"offsets\": [{\"start\": 13825, \"text\": \"Forestier\"}], \"confidence\": {\"state\": \"pre-added\", \"who\": [\"ml:fr_core_news_sm\"], \"prob\": 1}, \"fields\": {}, \"normalizations\": {}}, {\"classId\": \"e_1\", \"part\": \"s1v1\", \"offsets\": [{\"start\": 13859, \"text\": \"\\u2014\"}], \"confidence\": {\"state\": \"pre-added\", \"who\": [\"ml:fr_core_news_sm\"], \"prob\": 1}, \"fields\": {}, \"normalizations\": {}}, {\"classId\": \"e_2\", \"part\": \"s1v1\", \"offsets\": [{\"start\": 13879, \"text\": \"Duroy\"}], \"confidence\": {\"state\": \"pre-added\", \"who\": [\"ml:fr_core_news_sm\"], \"prob\": 1}, \"fields\": {}, \"normalizations\": {}}, {\"classId\": \"e_2\", \"part\": \"s1v1\", \"offsets\": [{\"start\": 14234, \"text\": \"Assieds-toi\"}], \"confidence\": {\"state\": \"pre-added\", \"who\": [\"ml:fr_core_news_sm\"], \"prob\": 1}, \"fields\": {}, \"normalizations\": {}}, {\"classId\": \"e_1\", \"part\": \"s1v1\", \"offsets\": [{\"start\": 14251, \"text\": \"Forestier\"}], \"confidence\": {\"state\": \"pre-added\", \"who\": [\"ml:fr_core_news_sm\"], \"prob\": 1}, \"fields\": {}, \"normalizations\": {}}, {\"classId\": \"e_2\", \"part\": \"s1v1\", \"offsets\": [{\"start\": 14473, \"text\": \"Duroy\"}], \"confidence\": {\"state\": \"pre-added\", \"who\": [\"ml:fr_core_news_sm\"], \"prob\": 1}, \"fields\": {}, \"normalizations\": {}}, {\"classId\": \"e_1\", \"part\": \"s1v1\", \"offsets\": [{\"start\": 15363, \"text\": \"D\\u2019autres\"}], \"confidence\": {\"state\": \"pre-added\", \"who\": [\"ml:fr_core_news_sm\"], \"prob\": 1}, \"fields\": {}, \"normalizations\": {}}, {\"classId\": \"e_1\", \"part\": \"s1v1\", \"offsets\": [{\"start\": 15516, \"text\": \"Forestier\"}], \"confidence\": {\"state\": \"pre-added\", \"who\": [\"ml:fr_core_news_sm\"], \"prob\": 1}, \"fields\": {}, \"normalizations\": {}}, {\"classId\": \"e_1\", \"part\": \"s1v1\", \"offsets\": [{\"start\": 15740, \"text\": \"Forestier\"}], \"confidence\": {\"state\": \"pre-added\", \"who\": [\"ml:fr_core_news_sm\"], \"prob\": 1}, \"fields\": {}, \"normalizations\": {}}, {\"classId\": \"e_1\", \"part\": \"s1v1\", \"offsets\": [{\"start\": 15763, \"text\": \"\\u2014 Adieu\"}], \"confidence\": {\"state\": \"pre-added\", \"who\": [\"ml:fr_core_news_sm\"], \"prob\": 1}, \"fields\": {}, \"normalizations\": {}}, {\"classId\": \"e_1\", \"part\": \"s1v1\", \"offsets\": [{\"start\": 15819, \"text\": \"\\u2014\"}], \"confidence\": {\"state\": \"pre-added\", \"who\": [\"ml:fr_core_news_sm\"], \"prob\": 1}, \"fields\": {}, \"normalizations\": {}}, {\"classId\": \"e_2\", \"part\": \"s1v1\", \"offsets\": [{\"start\": 15913, \"text\": \"Duroy\"}], \"confidence\": {\"state\": \"pre-added\", \"who\": [\"ml:fr_core_news_sm\"], \"prob\": 1}, \"fields\": {}, \"normalizations\": {}}, {\"classId\": \"e_1\", \"part\": \"s1v1\", \"offsets\": [{\"start\": 15958, \"text\": \"Jacques Rival\"}], \"confidence\": {\"state\": \"pre-added\", \"who\": [\"ml:fr_core_news_sm\"], \"prob\": 1}, \"fields\": {}, \"normalizations\": {}}, {\"classId\": \"e_2\", \"part\": \"s1v1\", \"offsets\": [{\"start\": 16153, \"text\": \"Paris\"}], \"confidence\": {\"state\": \"pre-added\", \"who\": [\"ml:fr_core_news_sm\"], \"prob\": 1}, \"fields\": {}, \"normalizations\": {}}, {\"classId\": \"e_1\", \"part\": \"s1v1\", \"offsets\": [{\"start\": 16380, \"text\": \"Forestier\"}], \"confidence\": {\"state\": \"pre-added\", \"who\": [\"ml:fr_core_news_sm\"], \"prob\": 1}, \"fields\": {}, \"normalizations\": {}}, {\"classId\": \"e_1\", \"part\": \"s1v1\", \"offsets\": [{\"start\": 16412, \"text\": \"Norbert de Varenne\"}], \"confidence\": {\"state\": \"pre-added\", \"who\": [\"ml:fr_core_news_sm\"], \"prob\": 1}, \"fields\": {}, \"normalizations\": {}}, {\"classId\": \"e_2\", \"part\": \"s1v1\", \"offsets\": [{\"start\": 16463, \"text\": \"Soleils\"}], \"confidence\": {\"state\": \"pre-added\", \"who\": [\"ml:fr_core_news_sm\"], \"prob\": 1}, \"fields\": {}, \"normalizations\": {}}, {\"classId\": \"e_2\", \"part\": \"s1v1\", \"offsets\": [{\"start\": 16635, \"text\": \"Napolitain\"}], \"confidence\": {\"state\": \"pre-added\", \"who\": [\"ml:fr_core_news_sm\"], \"prob\": 1}, \"fields\": {}, \"normalizations\": {}}, {\"classId\": \"e_1\", \"part\": \"s1v1\", \"offsets\": [{\"start\": 16729, \"text\": \"Forestier cria\"}], \"confidence\": {\"state\": \"pre-added\", \"who\": [\"ml:fr_core_news_sm\"], \"prob\": 1}, \"fields\": {}, \"normalizations\": {}}, {\"classId\": \"e_2\", \"part\": \"s1v1\", \"offsets\": [{\"start\": 16810, \"text\": \"Duroy\"}], \"confidence\": {\"state\": \"pre-added\", \"who\": [\"ml:fr_core_news_sm\"], \"prob\": 1}, \"fields\": {}, \"normalizations\": {}}, {\"classId\": \"e_2\", \"part\": \"s1v1\", \"offsets\": [{\"start\": 17136, \"text\": \"Bah\"}], \"confidence\": {\"state\": \"pre-added\", \"who\": [\"ml:fr_core_news_sm\"], \"prob\": 1}, \"fields\": {}, \"normalizations\": {}}, {\"classId\": \"e_1\", \"part\": \"s1v1\", \"offsets\": [{\"start\": 17426, \"text\": \"\\u2014 Alors\"}], \"confidence\": {\"state\": \"pre-added\", \"who\": [\"ml:fr_core_news_sm\"], \"prob\": 1}, \"fields\": {}, \"normalizations\": {}}, {\"classId\": \"e_1\", \"part\": \"s1v1\", \"offsets\": [{\"start\": 17530, \"text\": \"M. Walter\"}], \"confidence\": {\"state\": \"pre-added\", \"who\": [\"ml:fr_core_news_sm\"], \"prob\": 1}, \"fields\": {}, \"normalizations\": {}}, {\"classId\": \"e_1\", \"part\": \"s1v1\", \"offsets\": [{\"start\": 17551, \"text\": \"Jacques Rival\"}], \"confidence\": {\"state\": \"pre-added\", \"who\": [\"ml:fr_core_news_sm\"], \"prob\": 1}, \"fields\": {}, \"normalizations\": {}}, {\"classId\": \"e_1\", \"part\": \"s1v1\", \"offsets\": [{\"start\": 17568, \"text\": \"Norbert de Varenne\"}], \"confidence\": {\"state\": \"pre-added\", \"who\": [\"ml:fr_core_news_sm\"], \"prob\": 1}, \"fields\": {}, \"normalizations\": {}}, {\"classId\": \"e_1\", \"part\": \"s1v1\", \"offsets\": [{\"start\": 17627, \"text\": \"Mme Forestier\"}], \"confidence\": {\"state\": \"pre-added\", \"who\": [\"ml:fr_core_news_sm\"], \"prob\": 1}, \"fields\": {}, \"normalizations\": {}}]}\n",
            "{\"ok\":1,\"errors\":0,\"items\":[{\"origid\":\"BelAmi_extrait0101.txt\",\"filenames\":[\"BelAmi_extrait0101.ann.json\",\"BelAmi_extrait0101.txt\"],\"names\":[\"BelAmi_extrait0101.ann.json\",\"BelAmi_extrait0101.txt\"],\"rawInputSizeInBytes\":34491,\"docid\":\"aVjNJ5Mj4dt0liMzqvRt91ZE5vZK-BelAmi_extrait0101.txt\",\"tagtogID\":\"aVjNJ5Mj4dt0liMzqvRt91ZE5vZK-BelAmi_extrait0101.txt\",\"result\":\"created\",\"parsedTextSizeInBytes\":17660}],\"warnings\":[]}\n"
          ]
        }
      ]
    },
    {
      "cell_type": "markdown",
      "source": [
        "**3.  Correction manuelle des annotations en vue de créer un jeu  de données d'entrainement**\n",
        "\n",
        "Ensuite téléchargez le fichier json à partir de tagtog et renommez-le en \"BelAmi_01_01_corrected.ann.json\" et importez-le dans l'espace de fichiers, ce fichier est traité ci-dessous."
      ],
      "metadata": {
        "id": "cPWGPhPAfX1a"
      }
    },
    {
      "cell_type": "markdown",
      "source": [
        "**4. Formattage et intégration des annotations corrigées dans Spacy en tant que jeu de données d'entrainement**"
      ],
      "metadata": {
        "id": "dBl9pvER3gyY"
      }
    },
    {
      "cell_type": "code",
      "source": [
        "# importing the module\n",
        "import json\n",
        "  # reading the data from the file\n",
        "with open('coursTAL/2022/BelAmi_01_01_corrected.ann.json') as f:\n",
        "    data = f.read()  \n",
        "print(\"Data type before reconstruction : \", type(data))\n",
        "# reconstructing the data as a dictionary\n",
        "js_corrected_training_data = json.loads(data)\n",
        "print(\"Data type after reconstruction : \", type(js_corrected_training_data))\n",
        "print(js_corrected_training_data)"
      ],
      "metadata": {
        "id": "93f8q8qqmEB7",
        "colab": {
          "base_uri": "https://localhost:8080/"
        },
        "outputId": "967a427b-b8da-416c-d4cb-a603fd263f8a"
      },
      "execution_count": 10,
      "outputs": [
        {
          "output_type": "stream",
          "name": "stdout",
          "text": [
            "Data type before reconstruction :  <class 'str'>\n",
            "Data type after reconstruction :  <class 'dict'>\n",
            "{'anncomplete': False, 'metas': {}, 'relations': [], 'entities': [{'classId': 'e_1', 'part': 's1v1', 'offsets': [{'start': 95, 'text': 'Georges Duroy'}], 'coordinates': [], 'confidence': {'state': 'pre-added', 'who': ['ml:fr_core_news_sm'], 'prob': 1}, 'fields': {}, 'normalizations': {}}, {'classId': 'e_2', 'part': 's1v1', 'offsets': [{'start': 1378, 'text': 'rue Notre-Dame-de-Lorette'}], 'coordinates': [], 'confidence': {'state': 'pre-added', 'who': ['ml:fr_core_news_sm'], 'prob': 1}, 'fields': {}, 'normalizations': {}}, {'classId': 'e_2', 'part': 's1v1', 'offsets': [{'start': 2459, 'text': 'Paris'}], 'coordinates': [], 'confidence': {'state': 'pre-added', 'who': ['ml:fr_core_news_sm'], 'prob': 1}, 'fields': {}, 'normalizations': {}}, {'classId': 'e_1', 'part': 's1v1', 'offsets': [{'start': 2963, 'text': 'Georges Duroy'}], 'coordinates': [], 'confidence': {'state': 'pre-added', 'who': ['ml:fr_core_news_sm'], 'prob': 1}, 'fields': {}, 'normalizations': {}}, {'classId': 'e_2', 'part': 's1v1', 'offsets': [{'start': 3094, 'text': 'Champs-Élysées'}], 'coordinates': [], 'confidence': {'state': 'pre-added', 'who': ['ml:fr_core_news_sm'], 'prob': 1}, 'fields': {}, 'normalizations': {}}, {'classId': 'e_2', 'part': 's1v1', 'offsets': [{'start': 3114, 'text': 'avenue du bois de Boulogne'}], 'coordinates': [], 'confidence': {'state': 'pre-added', 'who': ['user:cvbrandoe'], 'prob': 1}, 'fields': {}, 'normalizations': {}}, {'classId': 'e_2', 'part': 's1v1', 'offsets': [{'start': 4146, 'text': 'la Madeleine'}], 'coordinates': [], 'confidence': {'state': 'pre-added', 'who': ['ml:regex', 'user:cvbrandoe'], 'prob': 1}, 'fields': {}, 'normalizations': {}}, {'classId': 'e_1', 'part': 's1v1', 'offsets': [{'start': 4657, 'text': 'Duroy'}], 'coordinates': [], 'confidence': {'state': 'pre-added', 'who': ['user:cvbrandoe'], 'prob': 1}, 'fields': {}, 'normalizations': {}}, {'classId': 'e_2', 'part': 's1v1', 'offsets': [{'start': 5100, 'text': 'Américain'}], 'coordinates': [], 'confidence': {'state': 'pre-added', 'who': ['ml:fr_core_news_sm'], 'prob': 1}, 'fields': {}, 'normalizations': {}}, {'classId': 'e_2', 'part': 's1v1', 'offsets': [{'start': 6051, 'text': 'Afrique'}], 'coordinates': [], 'confidence': {'state': 'pre-added', 'who': ['ml:fr_core_news_sm'], 'prob': 1}, 'fields': {}, 'normalizations': {}}, {'classId': 'e_3', 'part': 's1v1', 'offsets': [{'start': 6088, 'text': 'les Arabes'}], 'coordinates': [], 'confidence': {'state': 'pre-added', 'who': ['user:cvbrandoe'], 'prob': 1}, 'fields': {}, 'normalizations': {}}, {'classId': 'e_2', 'part': 's1v1', 'offsets': [{'start': 6125, 'text': 'Sud'}], 'coordinates': [], 'confidence': {'state': 'pre-added', 'who': ['user:cvbrandoe'], 'prob': 1}, 'fields': {}, 'normalizations': {}}, {'classId': 'e_3', 'part': 's1v1', 'offsets': [{'start': 6259, 'text': 'Ouled-Alane'}], 'coordinates': [], 'confidence': {'state': 'pre-added', 'who': ['ml:fr_core_news_sm', 'user:cvbrandoe'], 'prob': 1}, 'fields': {}, 'normalizations': {}}, {'classId': 'e_2', 'part': 's1v1', 'offsets': [{'start': 6546, 'text': 'Paris'}], 'coordinates': [], 'confidence': {'state': 'pre-added', 'who': ['ml:fr_core_news_sm'], 'prob': 1}, 'fields': {}, 'normalizations': {}}, {'classId': 'e_2', 'part': 's1v1', 'offsets': [{'start': 7417, 'text': 'le Vaudeville'}], 'coordinates': [], 'confidence': {'state': 'pre-added', 'who': ['user:cvbrandoe'], 'prob': 1}, 'fields': {}, 'normalizations': {}}, {'classId': 'e_2', 'part': 's1v1', 'offsets': [{'start': 7455, 'text': 'Café Américain'}], 'coordinates': [], 'confidence': {'state': 'pre-added', 'who': ['ml:fr_core_news_sm'], 'prob': 1}, 'fields': {}, 'normalizations': {}}, {'classId': 'e_2', 'part': 's1v1', 'offsets': [{'start': 7828, 'text': 'la Madeleine'}], 'coordinates': [], 'confidence': {'state': 'pre-added', 'who': ['user:cvbrandoe'], 'prob': 1}, 'fields': {}, 'normalizations': {}}, {'classId': 'e_2', 'part': 's1v1', 'offsets': [{'start': 7921, 'text': \"place de l'Opéra\"}], 'coordinates': [], 'confidence': {'state': 'pre-added', 'who': ['ml:fr_core_news_sm'], 'prob': 1}, 'fields': {}, 'normalizations': {}}, {'classId': 'e_1', 'part': 's1v1', 'offsets': [{'start': 8393, 'text': 'Forestier'}], 'coordinates': [], 'confidence': {'state': 'pre-added', 'who': ['ml:fr_core_news_sm'], 'prob': 1}, 'fields': {}, 'normalizations': {}}, {'classId': 'e_1', 'part': 's1v1', 'offsets': [{'start': 8561, 'text': 'Duroy'}], 'coordinates': [], 'confidence': {'state': 'pre-added', 'who': ['ml:regex'], 'prob': 0.5}, 'fields': {}, 'normalizations': {}}, {'classId': 'e_1', 'part': 's1v1', 'offsets': [{'start': 8622, 'text': 'Georges Duroy'}], 'coordinates': [], 'confidence': {'state': 'pre-added', 'who': ['ml:fr_core_news_sm'], 'prob': 1}, 'fields': {}, 'normalizations': {}}, {'classId': 'e_3', 'part': 's1v1', 'offsets': [{'start': 8639, 'text': '6e hussards.'}], 'coordinates': [], 'confidence': {'state': 'pre-added', 'who': ['ml:fr_core_news_sm', 'user:cvbrandoe'], 'prob': 1}, 'fields': {}, 'normalizations': {}}, {'classId': 'e_1', 'part': 's1v1', 'offsets': [{'start': 8653, 'text': 'Forestier'}], 'coordinates': [], 'confidence': {'state': 'pre-added', 'who': ['user:cvbrandoe'], 'prob': 1}, 'fields': {}, 'normalizations': {}}, {'classId': 'e_2', 'part': 's1v1', 'offsets': [{'start': 8910, 'text': 'Bougival'}], 'coordinates': [], 'confidence': {'state': 'pre-added', 'who': ['ml:fr_core_news_sm', 'user:cvbrandoe'], 'prob': 1}, 'fields': {}, 'normalizations': {}}, {'classId': 'e_2', 'part': 's1v1', 'offsets': [{'start': 8944, 'text': 'Paris'}], 'coordinates': [], 'confidence': {'state': 'pre-added', 'who': ['ml:fr_core_news_sm'], 'prob': 1}, 'fields': {}, 'normalizations': {}}, {'classId': 'e_1', 'part': 's1v1', 'offsets': [{'start': 9025, 'text': 'Forestier'}], 'coordinates': [], 'confidence': {'state': 'pre-added', 'who': ['ml:regex'], 'prob': 0.5}, 'fields': {}, 'normalizations': {}}, {'classId': 'e_2', 'part': 's1v1', 'offsets': [{'start': 9268, 'text': 'le Midi'}], 'coordinates': [], 'confidence': {'state': 'pre-added', 'who': ['ml:fr_core_news_sm'], 'prob': 1}, 'fields': {}, 'normalizations': {}}, {'classId': 'e_3', 'part': 's1v1', 'offsets': [{'start': 9387, 'text': 'Vie Française'}], 'coordinates': [], 'confidence': {'state': 'pre-added', 'who': ['ml:fr_core_news_sm', 'user:cvbrandoe'], 'prob': 1}, 'fields': {}, 'normalizations': {}}, {'classId': 'e_3', 'part': 's1v1', 'offsets': [{'start': 9410, 'text': 'le Sénat'}], 'coordinates': [], 'confidence': {'state': 'pre-added', 'who': ['user:cvbrandoe'], 'prob': 1}, 'fields': {}, 'normalizations': {}}, {'classId': 'e_3', 'part': 's1v1', 'offsets': [{'start': 9422, 'text': 'Salut'}], 'coordinates': [], 'confidence': {'state': 'pre-added', 'who': ['user:cvbrandoe'], 'prob': 1}, 'fields': {}, 'normalizations': {}}, {'classId': 'e_3', 'part': 's1v1', 'offsets': [{'start': 9484, 'text': 'la Planète'}], 'coordinates': [], 'confidence': {'state': 'pre-added', 'who': ['ml:fr_core_news_sm', 'user:cvbrandoe'], 'prob': 1}, 'fields': {}, 'normalizations': {}}, {'classId': 'e_1', 'part': 's1v1', 'offsets': [{'start': 9526, 'text': 'Duroy'}], 'coordinates': [], 'confidence': {'state': 'pre-added', 'who': ['ml:regex'], 'prob': 0.5}, 'fields': {}, 'normalizations': {}}, {'classId': 'e_2', 'part': 's1v1', 'offsets': [{'start': 9823, 'text': 'Paris'}], 'coordinates': [], 'confidence': {'state': 'pre-added', 'who': ['ml:fr_core_news_sm'], 'prob': 1}, 'fields': {}, 'normalizations': {}}, {'classId': 'e_1', 'part': 's1v1', 'offsets': [{'start': 9979, 'text': 'Forestier'}], 'coordinates': [], 'confidence': {'state': 'pre-added', 'who': ['ml:regex'], 'prob': 0.5}, 'fields': {}, 'normalizations': {}}, {'classId': 'e_1', 'part': 's1v1', 'offsets': [{'start': 10015, 'text': 'Duroy'}], 'coordinates': [], 'confidence': {'state': 'pre-added', 'who': ['ml:regex'], 'prob': 0.5}, 'fields': {}, 'normalizations': {}}, {'classId': 'e_3', 'part': 's1v1', 'offsets': [{'start': 10117, 'text': 'la Vie Française'}], 'coordinates': [], 'confidence': {'state': 'pre-added', 'who': ['user:cvbrandoe'], 'prob': 1}, 'fields': {}, 'normalizations': {}}, {'classId': 'e_2', 'part': 's1v1', 'offsets': [{'start': 10408, 'text': 'Paris'}], 'coordinates': [], 'confidence': {'state': 'pre-added', 'who': ['ml:fr_core_news_sm'], 'prob': 1}, 'fields': {}, 'normalizations': {}}, {'classId': 'e_1', 'part': 's1v1', 'offsets': [{'start': 10420, 'text': 'Forestier'}], 'coordinates': [], 'confidence': {'state': 'pre-added', 'who': ['ml:regex'], 'prob': 0.5}, 'fields': {}, 'normalizations': {}}, {'classId': 'e_1', 'part': 's1v1', 'offsets': [{'start': 10432, 'text': 'Duroy'}], 'coordinates': [], 'confidence': {'state': 'pre-added', 'who': ['ml:regex'], 'prob': 0.5}, 'fields': {}, 'normalizations': {}}, {'classId': 'e_2', 'part': 's1v1', 'offsets': [{'start': 10591, 'text': 'Paris'}], 'coordinates': [], 'confidence': {'state': 'pre-added', 'who': ['ml:fr_core_news_sm'], 'prob': 1}, 'fields': {}, 'normalizations': {}}, {'classId': 'e_2', 'part': 's1v1', 'offsets': [{'start': 10666, 'text': 'du Nord'}], 'coordinates': [], 'confidence': {'state': 'pre-added', 'who': ['user:cvbrandoe'], 'prob': 1}, 'fields': {}, 'normalizations': {}}, {'classId': 'e_1', 'part': 's1v1', 'offsets': [{'start': 10720, 'text': 'Forestier'}], 'coordinates': [], 'confidence': {'state': 'pre-added', 'who': ['ml:regex'], 'prob': 0.5}, 'fields': {}, 'normalizations': {}}, {'classId': 'e_2', 'part': 's1v1', 'offsets': [{'start': 11324, 'text': 'Nord'}], 'coordinates': [], 'confidence': {'state': 'pre-added', 'who': ['ml:fr_core_news_sm'], 'prob': 1}, 'fields': {}, 'normalizations': {}}, {'classId': 'e_1', 'part': 's1v1', 'offsets': [{'start': 11332, 'text': 'Duroy'}], 'coordinates': [], 'confidence': {'state': 'pre-added', 'who': ['ml:regex'], 'prob': 0.5}, 'fields': {}, 'normalizations': {}}, {'classId': 'e_3', 'part': 's1v1', 'offsets': [{'start': 11480, 'text': 'manège Pellerin'}], 'coordinates': [], 'confidence': {'state': 'pre-added', 'who': ['ml:fr_core_news_sm', 'user:cvbrandoe'], 'prob': 1}, 'fields': {}, 'normalizations': {}}, {'classId': 'e_1', 'part': 's1v1', 'offsets': [{'start': 11543, 'text': 'Forestier'}], 'coordinates': [], 'confidence': {'state': 'pre-added', 'who': ['ml:regex'], 'prob': 0.5}, 'fields': {}, 'normalizations': {}}, {'classId': 'e_3', 'part': 's1v1', 'offsets': [{'start': 11884, 'text': 'Tout-Paris'}], 'coordinates': [], 'confidence': {'state': 'pre-added', 'who': ['ml:fr_core_news_sm', 'user:cvbrandoe'], 'prob': 1}, 'fields': {}, 'normalizations': {}}, {'classId': 'e_3', 'part': 's1v1', 'offsets': [{'start': 12250, 'text': 'Cicéron'}], 'coordinates': [], 'confidence': {'state': 'pre-added', 'who': ['ml:fr_core_news_sm', 'user:cvbrandoe'], 'prob': 1}, 'fields': {}, 'normalizations': {}}, {'classId': 'e_3', 'part': 's1v1', 'offsets': [{'start': 12264, 'text': 'Tibère'}], 'coordinates': [], 'confidence': {'state': 'pre-added', 'who': ['ml:fr_core_news_sm', 'user:cvbrandoe'], 'prob': 1}, 'fields': {}, 'normalizations': {}}, {'classId': 'e_2', 'part': 's1v1', 'offsets': [{'start': 13103, 'text': 'Menton'}], 'coordinates': [], 'confidence': {'state': 'pre-added', 'who': ['ml:fr_core_news_sm'], 'prob': 1}, 'fields': {}, 'normalizations': {}}, {'classId': 'e_2', 'part': 's1v1', 'offsets': [{'start': 13169, 'text': 'boulevard Poissonnière'}], 'coordinates': [], 'confidence': {'state': 'pre-added', 'who': ['ml:fr_core_news_sm'], 'prob': 1}, 'fields': {}, 'normalizations': {}}, {'classId': 'e_3', 'part': 's1v1', 'offsets': [{'start': 13442, 'text': 'La Vie Française'}], 'coordinates': [], 'confidence': {'state': 'pre-added', 'who': ['ml:regex', 'user:cvbrandoe'], 'prob': 1}, 'fields': {}, 'normalizations': {}}, {'classId': 'e_1', 'part': 's1v1', 'offsets': [{'start': 13687, 'text': 'Forestier'}], 'coordinates': [], 'confidence': {'state': 'pre-added', 'who': ['ml:regex', 'user:cvbrandoe'], 'prob': 1}, 'fields': {}, 'normalizations': {}}, {'classId': 'e_1', 'part': 's1v1', 'offsets': [{'start': 13737, 'text': 'Duroy'}], 'coordinates': [], 'confidence': {'state': 'pre-added', 'who': ['ml:regex', 'user:cvbrandoe'], 'prob': 1}, 'fields': {}, 'normalizations': {}}, {'classId': 'e_1', 'part': 's1v1', 'offsets': [{'start': 14107, 'text': 'Forestier'}], 'coordinates': [], 'confidence': {'state': 'pre-added', 'who': ['ml:regex', 'user:cvbrandoe'], 'prob': 1}, 'fields': {}, 'normalizations': {}}, {'classId': 'e_1', 'part': 's1v1', 'offsets': [{'start': 14325, 'text': 'Duroy'}], 'coordinates': [], 'confidence': {'state': 'pre-added', 'who': ['ml:regex', 'user:cvbrandoe'], 'prob': 1}, 'fields': {}, 'normalizations': {}}, {'classId': 'e_1', 'part': 's1v1', 'offsets': [{'start': 15362, 'text': 'Forestier'}], 'coordinates': [], 'confidence': {'state': 'pre-added', 'who': ['ml:fr_core_news_sm'], 'prob': 1}, 'fields': {}, 'normalizations': {}}, {'classId': 'e_1', 'part': 's1v1', 'offsets': [{'start': 15584, 'text': 'Forestier'}], 'coordinates': [], 'confidence': {'state': 'pre-added', 'who': ['ml:regex', 'user:cvbrandoe'], 'prob': 1}, 'fields': {}, 'normalizations': {}}, {'classId': 'e_1', 'part': 's1v1', 'offsets': [{'start': 15747, 'text': 'Duroy'}], 'coordinates': [], 'confidence': {'state': 'pre-added', 'who': ['ml:regex', 'user:cvbrandoe'], 'prob': 1}, 'fields': {}, 'normalizations': {}}, {'classId': 'e_1', 'part': 's1v1', 'offsets': [{'start': 15788, 'text': 'Jacques Rival'}], 'coordinates': [], 'confidence': {'state': 'pre-added', 'who': ['ml:fr_core_news_sm'], 'prob': 1}, 'fields': {}, 'normalizations': {}}, {'classId': 'e_1', 'part': 's1v1', 'offsets': [{'start': 15884, 'text': 'Garin'}], 'coordinates': [], 'confidence': {'state': 'pre-added', 'who': ['ml:fr_core_news_sm'], 'prob': 1}, 'fields': {}, 'normalizations': {}}, {'classId': 'e_1', 'part': 's1v1', 'offsets': [{'start': 15891, 'text': 'Montel'}], 'coordinates': [], 'confidence': {'state': 'pre-added', 'who': ['ml:fr_core_news_sm'], 'prob': 1}, 'fields': {}, 'normalizations': {}}, {'classId': 'e_2', 'part': 's1v1', 'offsets': [{'start': 15983, 'text': 'Paris'}], 'coordinates': [], 'confidence': {'state': 'pre-added', 'who': ['ml:fr_core_news_sm'], 'prob': 1}, 'fields': {}, 'normalizations': {}}, {'classId': 'e_1', 'part': 's1v1', 'offsets': [{'start': 16206, 'text': 'Forestier'}], 'coordinates': [], 'confidence': {'state': 'pre-added', 'who': ['ml:regex', 'user:cvbrandoe'], 'prob': 1}, 'fields': {}, 'normalizations': {}}, {'classId': 'e_1', 'part': 's1v1', 'offsets': [{'start': 16236, 'text': 'Norbert de Varenne'}], 'coordinates': [], 'confidence': {'state': 'pre-added', 'who': ['ml:fr_core_news_sm'], 'prob': 1}, 'fields': {}, 'normalizations': {}}, {'classId': 'e_2', 'part': 's1v1', 'offsets': [{'start': 16459, 'text': 'Napolitain'}], 'coordinates': [], 'confidence': {'state': 'pre-added', 'who': ['ml:fr_core_news_sm'], 'prob': 1}, 'fields': {}, 'normalizations': {}}, {'classId': 'e_1', 'part': 's1v1', 'offsets': [{'start': 16551, 'text': 'Forestier'}], 'coordinates': [], 'confidence': {'state': 'pre-added', 'who': ['ml:fr_core_news_sm'], 'prob': 1}, 'fields': {}, 'normalizations': {}}, {'classId': 'e_1', 'part': 's1v1', 'offsets': [{'start': 16632, 'text': 'Duroy'}], 'coordinates': [], 'confidence': {'state': 'pre-added', 'who': ['ml:fr_core_news_sm'], 'prob': 1}, 'fields': {}, 'normalizations': {}}, {'classId': 'e_1', 'part': 's1v1', 'offsets': [{'start': 17338, 'text': 'M. Walter'}], 'coordinates': [], 'confidence': {'state': 'pre-added', 'who': ['ml:fr_core_news_sm'], 'prob': 1}, 'fields': {}, 'normalizations': {}}, {'classId': 'e_1', 'part': 's1v1', 'offsets': [{'start': 17359, 'text': 'Jacques Rival'}], 'coordinates': [], 'confidence': {'state': 'pre-added', 'who': ['ml:fr_core_news_sm'], 'prob': 1}, 'fields': {}, 'normalizations': {}}, {'classId': 'e_1', 'part': 's1v1', 'offsets': [{'start': 17376, 'text': 'Norbert de Varenne'}], 'coordinates': [], 'confidence': {'state': 'pre-added', 'who': ['ml:fr_core_news_sm'], 'prob': 1}, 'fields': {}, 'normalizations': {}}, {'classId': 'e_1', 'part': 's1v1', 'offsets': [{'start': 17435, 'text': 'Mme Forestier'}], 'coordinates': [], 'confidence': {'state': 'pre-added', 'who': ['ml:fr_core_news_sm'], 'prob': 1}, 'fields': {}, 'normalizations': {}}], 'annotatable': {'parts': ['s1v1']}}\n"
          ]
        }
      ]
    },
    {
      "cell_type": "code",
      "source": [
        "def get_class_id_inv(label):\n",
        "  \"\"\"\n",
        "  Translates the tagtog entity type id into spaCy label id \n",
        "  - label: tagtog entity type id\n",
        "  \"\"\"\n",
        "  choices = {'e_1': 'PER', 'e_2': 'LOC', 'e_3': 'MISC'}\n",
        "  return choices.get(label, None)"
      ],
      "metadata": {
        "id": "7PqUS4Cun4Z7"
      },
      "execution_count": 11,
      "outputs": []
    },
    {
      "cell_type": "code",
      "source": [
        "\n",
        "\n",
        "training_data = {'classes' : ['PER', \"LOC\", \"MISC\"], 'annotations' : []}\n",
        "temp_dict = {}\n",
        "temp_dict['text'] = text\n",
        "temp_dict['entities'] = []\n",
        "for example in js_corrected_training_data['entities']:  \n",
        "  #print(example)\n",
        "  start = example['offsets'][0]['start']\n",
        "  end = int(example['offsets'][0]['start']) + len(example['offsets'][0]['text'])\n",
        "  label = get_class_id_inv(example['classId'])\n",
        "  temp_dict['entities'].append((start, end, label))\n",
        "  #print(temp_dict['entities'])\n",
        "training_data['annotations'].append(temp_dict)\n",
        "  \n",
        "print(training_data['annotations'][0])"
      ],
      "metadata": {
        "id": "DvzGn-rpfE_p",
        "colab": {
          "base_uri": "https://localhost:8080/"
        },
        "outputId": "10ef0d3c-0685-43b0-d96d-f212cfdeaedc"
      },
      "execution_count": 12,
      "outputs": [
        {
          "output_type": "stream",
          "name": "stdout",
          "text": [
            "{'text': \"['PREMIÈRE PARTIE.', 'I', 'Quand la caissière lui eut rendu la monnaie de sa pièce de cent sous, Georges Duroy sortit du restaurant.', 'Comme il portait beau, par nature et par pose d’ancien sous-officier, il cambra sa taille, frisa sa moustache d’un geste militaire et familier, et jeta sur les dîneurs attardés un regard rapide et circulaire, un de ces regards de joli garçon, qui s’étendent comme des coups d’épervier.', 'Les femmes avaient levé la tête vers lui, trois petites ouvrières, une maîtresse de musique entre deux âges, mal peignée, négligée, coiffée d’un chapeau toujours poussiéreux et vêtue d’une robe toujours de travers, et deux bourgeoises avec leurs maris, habituées de cette gargote à prix fixe.', 'Lorsqu’il fut sur le trottoir, il demeura un instant immobile, se demandant ce qu’il allait faire. On était au 28 juin, et il lui restait juste en poche trois francs quarante pour finir le mois. Cela représentait deux dîners sans déjeuners, ou deux déjeuners sans dîners, au choix. Il réfléchit que les repas du matin étant de vingt-deux sous, au lieu de trente que coûtaient ceux du soir, il lui resterait, en se contentant des déjeuners, un franc vingt centimes de boni, ce qui représentait encore deux collations au pain et au saucisson, plus deux bocks sur le boulevard. C’était là sa grande dépense et son grand plaisir des nuits ; et il se mit à descendre la rue Notre-Dame-de-Lorette.', 'Il marchait ainsi qu’au temps où il portait l’uniforme des hussards, la poitrine bombée, les jambes un peu entr’ouvertes comme s’il venait de descendre de cheval ; et il avançait brutalement dans la rue pleine de monde, heurtant les épaules, poussant les gens pour ne point se déranger de sa route. Il inclinait légèrement sur l’oreille son chapeau à haute forme assez défraîchi, et battait le pavé de son talon. Il avait l’air de toujours défier quelqu’un, les passants, les maisons, la ville entière, par chic de beau soldat tombé dans le civil.', 'Quoique habillé d’un complet de soixante francs, il gardait une certaine élégance tapageuse, un peu commune, réelle cependant. Grand, bien fait, blond, d’un blond châtain vaguement roussi, avec une moustache retroussée, qui semblait mousser sur sa lèvre, des yeux bleus, clairs, troués d’une pupille toute petite, des cheveux frisés naturellement, séparés par une raie au milieu du crâne, il ressemblait bien au mauvais sujet des romans populaires.', 'C’était une de ces soirées d’été où l’air manque dans Paris. La ville, chaude comme une étuve, paraissait suer dans la nuit étouffante. Les égouts soufflaient par leurs bouches de granit leurs haleines empestées, et les cuisines souterraines jetaient à la rue, par leurs fenêtres basses, les miasmes infâmes des eaux de vaisselle et des vieilles sauces.', 'Les concierges, en manches de chemise, à cheval sur des chaises en paille, fumaient la pipe sous des portes cochères, et les passants allaient d’un pas accablé, le front nu, le chapeau à la main.', 'Quand Georges Duroy parvint au boulevard, il s’arrêta encore, indécis sur ce qu’il allait faire. Il avait envie maintenant de gagner les Champs-Élysées et l’avenue du bois de Boulogne pour trouver un peu d’air frais sous les arbres ; mais un désir aussi le travaillait, celui d’une rencontre amoureuse.', 'Comment se présenterait-elle ? Il n’en savait rien, mais il l’attendait depuis trois mois, tous les jours, tous les soirs. Quelquefois cependant, grâce à sa belle mine et à sa tournure galante, il volait, par-ci, par-là, un peu d’amour, mais il espérait toujours plus et mieux.', 'La poche vide et le sang bouillant, il s’allumait au contact des rôdeuses qui murmurent à l’angle des rues : « Venez-vous chez moi, joli garçon ? » mais il n’osait les suivre ne les pouvant payer ; et il attendait aussi autre chose, d’autres baisers moins vulgaires.', 'Il aimait cependant les lieux où grouillent les filles publiques, leurs bals, leurs cafés, leurs rues ; il aimait les coudoyer, leur parler, les tutoyer, flairer leurs parfums violents, se sentir près d’elles. C’étaient des femmes enfin, des femmes d’amour. Il ne les méprisait point du mépris inné des hommes de famille.', 'Il tourna vers la Madeleine et suivit le flot de foule qui coulait accablée par la chaleur. Les grands cafés, pleins de monde, débordaient sur le trottoir, étalant leur public de buveurs sous la lumière éclatante et crue de leur devanture illuminée. Devant eux, sur de petites tables carrées ou rondes, les verres contenaient des liquides rouges, jaunes, verts, bruns, de toutes les nuances ; et dans l’intérieur des carafes on voyait briller les gros cylindres transparents de glace qui refroidissaient la belle eau claire.', 'Duroy avait ralenti sa marche, et l’envie de boire lui séchait la gorge.', 'Une soif chaude, une soif de soir d’été le tenait, et il pensait à la sensation délicieuse des boissons froides coulant dans la bouche. Mais s’il buvait seulement deux bocks dans la soirée, adieu le maigre souper du lendemain, et il les connaissait trop, les heures affamées de la fin du mois.', 'Il se dit : « Il faut que je gagne dix heures et je prendrai mon bock à l’Américain. Nom d’un chien ! que j’ai soif tout de même ! » Et il regardait tous ces hommes attablés et buvant, tous ces hommes qui pouvaient se désaltérer tant qu’il leur plaisait. Il allait, passant devant les cafés d’un air crâne et gaillard, et il jugeait d’un coup d’œil, à la mine, à l’habit, ce que chaque consommateur devait porter d’argent sur lui. Et une colère l’envahissait contre ces gens assis et tranquilles. En fouillant leurs poches, on trouverait de l’or, de la monnaie blanche et des sous. En moyenne chacun devait avoir au moins deux louis ; ils étaient bien une centaine par café ; cent fois deux louis font quatre mille francs ! Il murmurait : « Les cochons ! » tout en se dandinant avec grâce. S’il avait pu en tenir un au coin d’une rue, dans l’ombre bien noire, il lui aurait tordu le cou, ma foi, sans scrupule, comme il faisait aux volailles des paysans, aux jours de grandes manœuvres.', 'Et il se rappelait ses deux années d’Afrique, la façon dont il rançonnait les Arabes dans les petits postes du Sud. Et un sourire cruel et gai passa sur ses lèvres au souvenir d’une escapade qui avait coûté la vie à trois hommes de la tribu des Ouled-Alane et qui leur avait valu, à ses camarades et à lui, vingt poules, deux moutons et de l’or, et de quoi rire pendant six mois.', 'On n’avait jamais trouvé les coupables, qu’on n’avait guère cherchés d’ailleurs, l’Arabe étant un peu considéré comme la proie naturelle du soldat.', 'À Paris, c’était autre chose. On ne pouvait pas marauder gentiment, sabre au côté et revolver au poing, loin de la justice civile, en liberté. Il se sentait au cœur tous les instincts du sous-off lâché en pays conquis. Certes il les regrettait, ses deux années de désert. Quel dommage de n’être pas resté là-bas ! Mais voilà, il avait espéré mieux en revenant. Et maintenant !… Ah oui, c’était du propre, maintenant !', 'Il faisait aller sa langue dans sa bouche, avec un petit claquement, comme pour constater la sécheresse de son palais.', 'La foule glissait autour de lui, exténuée et lente, et il pensait toujours : « Tas de brutes ! tous ces imbéciles-là ont des sous dans le gilet ». Il bousculait les gens de l’épaule, et sifflotait des airs joyeux. Des messieurs heurtés se retournaient en grognant ; des femmes prononçaient : « En voilà un animal ! »', 'Il passa devant le Vaudeville, et s’arrêta en face du Café Américain, se demandant s’il n’allait pas prendre son bock, tant la soif le torturait. Avant de se décider il regarda l’heure aux horloges lumineuses, au milieu de la chaussée. Il était neuf heures un quart. Il se connaissait : dès que le verre plein de bière serait devant lui, il l’avalerait. Que ferait-il ensuite jusqu’à onze heures ?', 'Il passa : « J’irai jusqu’à la Madeleine, se dit-il, et je reviendrai tout doucement. »', 'Comme il arrivait au coin de la place de l’Opéra, il croisa un gros jeune homme, dont il se rappela vaguement avoir vu la tête quelque part.', 'Il se mit à le suivre en cherchant dans ses souvenirs, et répétant à mi-voix : « Où diable ai-je connu ce particulier-là ? »', 'Il fouillait dans sa pensée, sans parvenir à se le rappeler ; puis, tout d’un coup, par un singulier phénomène de mémoire, le même homme lui apparut moins gros, plus jeune, vêtu d’un uniforme de hussard. Il s’écria tout haut : « Tiens, Forestier ! » et, allongeant le pas, il alla frapper sur l’épaule du marcheur. L’autre se retourna, le regarda, puis dit :', '— Qu’est-ce que vous me voulez, monsieur ?', 'Duroy se mit à rire :', '— Tu ne me reconnais pas ?', '— Non.', '— Georges Duroy du 6e hussards.', 'Forestier tendit les deux mains :', '— Ah ! mon vieux ! comment vas-tu ?', '— Très bien, et toi ?', '— Oh ! moi, pas trop ; figure-toi que j’ai une poitrine de papier mâché maintenant ; je tousse six mois sur douze, à la suite d’une bronchite que j’ai attrapée à Bougival, l’année de mon retour à Paris, voici quatre ans maintenant.', '— Tiens ! tu as l’air solide, pourtant.', 'Et Forestier, prenant le bras de son ancien camarade, lui parla de sa maladie, lui raconta les consultations, les opinions et les conseils des médecins, la difficulté de suivre leurs avis dans sa position. On lui ordonnait de passer l’hiver dans le Midi ; mais le pouvait-il ? Il était marié et journaliste, dans une belle situation.', '— Je dirige la politique à la Vie Française. Je fais le Sénat au Salut, et, de temps en temps, des chroniques littéraires pour la Planète. Voilà, j’ai fait mon chemin.', 'Duroy, surpris, le regardait. Il était bien changé, bien mûri. Il avait maintenant une allure, une tenue, un costume d’homme posé, sûr de lui, et un ventre d’homme qui dîne bien. Autrefois il était maigre, mince et souple, étourdi, casseur d’assiettes, tapageur et toujours en train. En trois ans Paris en avait fait quelqu’un de tout autre, de gros et sérieux, avec quelques cheveux blancs sur les tempes, bien qu’il n’eût pas plus de vingt-sept ans.', 'Forestier demanda :', '— Où vas-tu ?', 'Duroy répondit :', '— Nulle part, je fais un tour avant de rentrer.', '— Eh bien, veux-tu m’accompagner à la Vie Française, où j’ai des épreuves à corriger ; puis nous irons prendre un bock ensemble ?', '— Je te suis.', 'Et ils se mirent à marcher en se tenant par le bras, avec cette familiarité facile qui subsiste entre compagnons d’école et entre camarades de régiment.', '— Qu’est-ce que tu fais à Paris ? dit Forestier.', 'Duroy haussa les épaules :', '— Je crève de faim, tout simplement. Une fois mon temps fini, j’ai voulu venir ici pour… pour faire fortune ou plutôt pour vivre à Paris ; et voilà six mois que je suis employé aux bureaux du chemin de fer du Nord, à quinze cents francs par an, rien de plus.', 'Forestier murmura :', '— Bigre, ça n’est pas gras.', '— Je te crois. Mais comment veux-tu que je m’en tire ? Je suis seul, je ne connais personne, je ne peux me recommander de personne. Ce n’est pas la bonne volonté qui me manque, mais les moyens.', 'Son camarade le regarda des pieds à la tête, en homme pratique, qui juge un sujet, puis il prononça d’un ton convaincu :', '— Vois-tu, mon petit, tout dépend de l’aplomb, ici. Un homme un peu malin devient plus facilement ministre que chef de bureau. Il faut s’imposer et non pas demander. Mais comment diable n’as-tu pas trouvé mieux qu’une place d’employé au Nord ?', 'Duroy reprit :', '— J’ai cherché partout, et je n’ai rien découvert. Mais j’ai quelque chose en vue en ce moment, on m’offre d’entrer comme écuyer au manège Pellerin. Là, j’aurai, au bas mot, trois mille francs.', 'Forestier s’arrêta net :', '— Ne fais pas ça, c’est stupide, quand tu devrais gagner dix mille francs. Tu te fermes l’avenir du coup. Dans ton bureau, au moins tu es caché, personne ne te connaît, tu peux en sortir si tu es fort, et faire ton chemin. Mais une fois écuyer, c’est fini. C’est comme si tu étais maître d’hôtel dans une maison où Tout-Paris va dîner. Quand tu auras donné des leçons d’équitation aux hommes du monde ou à leurs fils, ils ne pourront plus s’accoutumer à te considérer comme leur égal.', 'Il se tut, réfléchit quelques secondes, puis demanda :', '— Es-tu bachelier ?', '— Non. J’ai échoué deux fois.', '— Ça ne fait rien, du moment que tu as poussé tes études jusqu’au bout. Si on parle de Cicéron ou de Tibère, tu sais à peu près ce que c’est ?', '— Oui, à peu près.', '— Bon, personne n’en sait davantage, à l’exception d’une vingtaine d’imbéciles qui ne sont pas fichus de se tirer d’affaire. Ça n’est pas difficile de passer pour fort, va ; le tout est de ne pas se faire pincer en flagrant délit d’ignorance. On manœuvre, on esquive la difficulté, on tourne l’obstacle, et on colle les autres au moyen d’un dictionnaire. Tous les hommes sont bêtes comme des oies et ignorants comme des carpes.', 'Il parlait en gaillard tranquille qui connaît la vie, et il souriait en regardant passer la foule. Mais tout d’un coup il se mit à tousser, et s’arrêta pour laisser finir la quinte, puis, d’un ton découragé :', '— Est-ce pas assommant de ne pouvoir se débarrasser de cette bronchite ? Et nous sommes en plein été. Oh ! cet hiver, j’irai me guérir à Menton. Tant pis, ma foi, la santé avant tout.', 'Ils arrivèrent au boulevard Poissonnière, devant une grande porte vitrée, derrière laquelle un journal ouvert était collé sur les deux faces. Trois personnes arrêtées le lisaient.', 'Au-dessus de la porte s’étalait, comme un appel, en grandes lettres de feu dessinées par des flammes de gaz : La Vie Française. Et les promeneurs passant brusquement dans la clarté que jetaient ces trois mots éclatants apparaissaient tout à coup en pleine lumière, visibles, clairs et nets comme au milieu du jour, puis rentraient aussitôt dans l’ombre.', 'Forestier poussa cette porte :', '— Entre, dit-il.', 'Duroy entra, monta un escalier luxueux et sale que toute la rue voyait, parvint dans une antichambre, dont les deux garçons de bureau saluèrent son camarade, puis s’arrêta dans une sorte de salon d’attente, poussiéreux et fripé, tendu de faux velours d’un vert pisseux, criblé de taches et rongé par endroits, comme si des souris l’eussent grignoté.', '— Assieds-toi, dit Forestier, je reviens dans cinq minutes.', 'Et il disparut par une des trois sorties qui donnaient dans ce cabinet.', 'Une odeur étrange, particulière, inexprimable, l’odeur des salles de rédaction, flottait dans ce lieu. Duroy demeurait immobile, un peu intimidé, surpris surtout. De temps en temps des hommes passaient devant lui, en courant, entrés par une porte et partis par l’autre avant qu’il eût le temps de les regarder.', 'C’étaient tantôt des jeunes gens, très jeunes, l’air affairé, et tenant à la main une feuille de papier qui palpitait au vent de leur course ; tantôt des ouvriers compositeurs, dont la blouse de toile tachée d’encre laissait voir un col de chemise bien blanc et un pantalon de drap pareil à celui des gens du monde ; et ils portaient avec précaution des bandes de papier imprimé, des épreuves fraîches, tout humides. Quelquefois un petit monsieur entrait, vêtu avec une élégance trop apparente, la taille trop serrée dans la redingote, la jambe trop moulée sous l’étoffe, le pied étreint dans un soulier trop pointu, quelque reporter mondain apportant les échos de la soirée.', 'D’autres encore arrivaient, graves, importants, coiffés de hauts chapeaux à bords plats, comme si cette forme les eût distingués du reste des hommes.', 'Forestier reparut tenant par le bras un grand garçon maigre, de trente à quarante ans, en habit noir et en cravate blanche, très brun, la moustache roulée en pointes aiguës, et qui avait l’air insolent et content de lui.', 'Forestier lui dit :', '— Adieu, cher maître.', 'L’autre lui serra la main :', '— Au revoir, mon cher.', 'Et il descendit l’escalier en sifflotant, la canne sous le bras.', 'Duroy demanda :', '— Qui est-ce ?', '— C’est Jacques Rival, tu sais, le fameux chroniqueur, le duelliste. Il vient de corriger ses épreuves. Garin, Montel et lui sont les trois premiers chroniqueurs d’esprit et d’actualité que nous ayons à Paris. Il gagne ici trente mille francs par an pour deux articles par semaine.', 'Et comme ils s’en allaient, ils rencontrèrent un petit homme à longs cheveux, gros, d’aspect malpropre, qui montait les marches en soufflant.', 'Forestier salua très bas :', '— Norbert de Varenne, dit-il, le poète, l’auteur des Soleils morts, encore un homme dans les grands prix. Chaque conte qu’il nous donne coûte trois cents francs, et les plus longs n’ont pas deux cents lignes. Mais entrons au Napolitain, je commence à crever de soif.', 'Dès qu’ils furent assis devant la table du café, Forestier cria : « Deux bocks », et il avala le sien d’un seul trait, tandis que Duroy buvait la bière à lentes gorgées, la savourant et la dégustant, comme une chose précieuse et rare.', 'Son compagnon se taisait, semblait réfléchir, puis tout à coup :', '— Pourquoi n’essayerais-tu pas du journalisme ?', 'L’autre, surpris, le regarda ; puis il dit :', '— Mais… c’est que… je n’ai jamais rien écrit.', '— Bah ! on essaye, on commence. Moi, je pourrais t’employer à aller me chercher des renseignements, à faire des démarches et des visites. Tu aurais, au début, deux cent cinquante francs et tes voitures payées. Veux-tu que j’en parle au directeur ?', '— Mais certainement que je veux bien.', '— Alors, fais une chose, viens dîner chez moi demain ; j’ai cinq ou six personnes seulement, le patron, M. Walter, sa femme, Jacques Rival et Norbert de Varenne, que tu viens de voir, plus une amie de Mme Forestier. Est-ce entendu ?']\", 'entities': [(95, 108, 'PER'), (1378, 1403, 'LOC'), (2459, 2464, 'LOC'), (2963, 2976, 'PER'), (3094, 3108, 'LOC'), (3114, 3140, 'LOC'), (4146, 4158, 'LOC'), (4657, 4662, 'PER'), (5100, 5109, 'LOC'), (6051, 6058, 'LOC'), (6088, 6098, 'MISC'), (6125, 6128, 'LOC'), (6259, 6270, 'MISC'), (6546, 6551, 'LOC'), (7417, 7430, 'LOC'), (7455, 7469, 'LOC'), (7828, 7840, 'LOC'), (7921, 7937, 'LOC'), (8393, 8402, 'PER'), (8561, 8566, 'PER'), (8622, 8635, 'PER'), (8639, 8651, 'MISC'), (8653, 8662, 'PER'), (8910, 8918, 'LOC'), (8944, 8949, 'LOC'), (9025, 9034, 'PER'), (9268, 9275, 'LOC'), (9387, 9400, 'MISC'), (9410, 9418, 'MISC'), (9422, 9427, 'MISC'), (9484, 9494, 'MISC'), (9526, 9531, 'PER'), (9823, 9828, 'LOC'), (9979, 9988, 'PER'), (10015, 10020, 'PER'), (10117, 10133, 'MISC'), (10408, 10413, 'LOC'), (10420, 10429, 'PER'), (10432, 10437, 'PER'), (10591, 10596, 'LOC'), (10666, 10673, 'LOC'), (10720, 10729, 'PER'), (11324, 11328, 'LOC'), (11332, 11337, 'PER'), (11480, 11495, 'MISC'), (11543, 11552, 'PER'), (11884, 11894, 'MISC'), (12250, 12257, 'MISC'), (12264, 12270, 'MISC'), (13103, 13109, 'LOC'), (13169, 13191, 'LOC'), (13442, 13458, 'MISC'), (13687, 13696, 'PER'), (13737, 13742, 'PER'), (14107, 14116, 'PER'), (14325, 14330, 'PER'), (15362, 15371, 'PER'), (15584, 15593, 'PER'), (15747, 15752, 'PER'), (15788, 15801, 'PER'), (15884, 15889, 'PER'), (15891, 15897, 'PER'), (15983, 15988, 'LOC'), (16206, 16215, 'PER'), (16236, 16254, 'PER'), (16459, 16469, 'LOC'), (16551, 16560, 'PER'), (16632, 16637, 'PER'), (17338, 17347, 'PER'), (17359, 17372, 'PER'), (17376, 17394, 'PER'), (17435, 17448, 'PER')]}\n"
          ]
        }
      ]
    },
    {
      "cell_type": "markdown",
      "source": [
        "**5.  Initialisation du modèle qui sera entrainé de manière incrémentale à partir du jeu d'entrainement** "
      ],
      "metadata": {
        "id": "t8qP3mCG5Oxl"
      }
    },
    {
      "cell_type": "code",
      "source": [
        "import spacy\n",
        "from spacy.tokens import DocBin\n",
        "from tqdm import tqdm\n",
        "\n",
        "nlp = spacy.blank(\"fr\") # load a new spacy model\n",
        "doc_bin = DocBin() # create a DocBin object\n"
      ],
      "metadata": {
        "id": "UeUIP1FWfJn0"
      },
      "execution_count": 13,
      "outputs": []
    },
    {
      "cell_type": "code",
      "source": [
        "from spacy.util import filter_spans\n",
        "\n",
        "for training_example  in tqdm(training_data['annotations']): \n",
        "    text = training_example['text']\n",
        "    labels = training_example['entities']\n",
        "    doc = nlp.make_doc(text) \n",
        "    ents = []\n",
        "    for start, end, label in labels:\n",
        "        span = doc.char_span(start, end, label=label, alignment_mode=\"contract\")\n",
        "        if span is None:\n",
        "            print(\"Skipping entity\")\n",
        "        else:\n",
        "            ents.append(span)\n",
        "    filtered_ents = filter_spans(ents)\n",
        "    doc.ents = filtered_ents \n",
        "    doc_bin.add(doc)\n",
        "\n",
        "doc_bin.to_disk(\"coursTAL/2022/training_data.spacy\") # save the docbin object\n"
      ],
      "metadata": {
        "id": "BVBN0pOofLib",
        "colab": {
          "base_uri": "https://localhost:8080/"
        },
        "outputId": "fc70ea41-55ce-4fed-e1c1-c2d2a61e68af"
      },
      "execution_count": 14,
      "outputs": [
        {
          "output_type": "stream",
          "name": "stderr",
          "text": [
            "100%|██████████| 1/1 [00:00<00:00,  7.54it/s]"
          ]
        },
        {
          "output_type": "stream",
          "name": "stdout",
          "text": [
            "Skipping entity\n",
            "Skipping entity\n",
            "Skipping entity\n",
            "Skipping entity\n",
            "Skipping entity\n",
            "Skipping entity\n",
            "Skipping entity\n",
            "Skipping entity\n",
            "Skipping entity\n",
            "Skipping entity\n",
            "Skipping entity\n",
            "Skipping entity\n",
            "Skipping entity\n",
            "Skipping entity\n",
            "Skipping entity\n",
            "Skipping entity\n",
            "Skipping entity\n"
          ]
        },
        {
          "output_type": "stream",
          "name": "stderr",
          "text": [
            "\n"
          ]
        }
      ]
    },
    {
      "cell_type": "markdown",
      "source": [
        "Le fichier de configuration base_config_nermodel.cfg est base_config_nermodel.cfg "
      ],
      "metadata": {
        "id": "XQxlbAKG5ty6"
      }
    },
    {
      "cell_type": "markdown",
      "source": [
        "**6.  Initialisation de l'entrainement avec les paramètres définis (hyperparamètres) dans le fichier .cfg et entrainement par le biais du CLI de Spacy**"
      ],
      "metadata": {
        "id": "c8mDruj055Ls"
      }
    },
    {
      "cell_type": "code",
      "source": [
        "!python -m spacy init fill-config \"coursTAL/2022/base_config_nermodel.cfg\" \"coursTAL/2022/config.cfg\""
      ],
      "metadata": {
        "id": "meQgWoDZoqVr",
        "colab": {
          "base_uri": "https://localhost:8080/"
        },
        "outputId": "4ad632ca-eeb6-450b-a2c5-195ca0c50e68"
      },
      "execution_count": 15,
      "outputs": [
        {
          "output_type": "stream",
          "name": "stdout",
          "text": [
            "2022-12-06 19:38:54.040300: E tensorflow/stream_executor/cuda/cuda_driver.cc:271] failed call to cuInit: CUDA_ERROR_NO_DEVICE: no CUDA-capable device is detected\n",
            "\u001b[38;5;2m✔ Auto-filled config with all values\u001b[0m\n",
            "\u001b[38;5;2m✔ Saved config\u001b[0m\n",
            "coursTAL/2022/config.cfg\n",
            "You can now add your data and train your pipeline:\n",
            "python -m spacy train config.cfg --paths.train ./train.spacy --paths.dev ./dev.spacy\n"
          ]
        }
      ]
    },
    {
      "cell_type": "code",
      "source": [
        "!python -m spacy train \"coursTAL/2022/config.cfg\" --paths.train \"coursTAL/2022/training_data.spacy\" --paths.dev \"coursTAL/2022/training_data.spacy\" --output \"coursTAL/2022/\"\n"
      ],
      "metadata": {
        "id": "LYAMJPjdowPW",
        "colab": {
          "base_uri": "https://localhost:8080/"
        },
        "outputId": "77e15fff-89f4-4fd2-e2f3-0f9f9382c00d"
      },
      "execution_count": 17,
      "outputs": [
        {
          "output_type": "stream",
          "name": "stdout",
          "text": [
            "2022-12-06 19:41:01.607663: E tensorflow/stream_executor/cuda/cuda_driver.cc:271] failed call to cuInit: CUDA_ERROR_NO_DEVICE: no CUDA-capable device is detected\n",
            "\u001b[38;5;4mℹ Saving to output directory: coursTAL/2022\u001b[0m\n",
            "\u001b[38;5;4mℹ Using CPU\u001b[0m\n",
            "\u001b[1m\n",
            "=========================== Initializing pipeline ===========================\u001b[0m\n",
            "[2022-12-06 19:41:08,298] [INFO] Set up nlp object from config\n",
            "INFO:spacy:Set up nlp object from config\n",
            "[2022-12-06 19:41:08,320] [INFO] Pipeline: ['tok2vec', 'ner', 'parser']\n",
            "INFO:spacy:Pipeline: ['tok2vec', 'ner', 'parser']\n",
            "[2022-12-06 19:41:08,320] [INFO] Resuming training for: ['ner']\n",
            "INFO:spacy:Resuming training for: ['ner']\n",
            "[2022-12-06 19:41:08,334] [INFO] Created vocabulary\n",
            "INFO:spacy:Created vocabulary\n",
            "[2022-12-06 19:41:08,335] [INFO] Finished initializing nlp object\n",
            "INFO:spacy:Finished initializing nlp object\n",
            "[2022-12-06 19:41:09,491] [INFO] Initialized pipeline components: ['tok2vec', 'parser']\n",
            "INFO:spacy:Initialized pipeline components: ['tok2vec', 'parser']\n",
            "\u001b[38;5;2m✔ Initialized pipeline\u001b[0m\n",
            "\u001b[1m\n",
            "============================= Training pipeline =============================\u001b[0m\n",
            "\u001b[38;5;4mℹ Pipeline: ['tok2vec', 'ner', 'parser']\u001b[0m\n",
            "\u001b[38;5;4mℹ Initial learn rate: 0.001\u001b[0m\n",
            "E    #       LOSS TOK2VEC  LOSS NER  LOSS PARSER  ENTS_F  ENTS_P  ENTS_R  DEP_UAS  DEP_LAS  SENTS_F  SCORE \n",
            "---  ------  ------------  --------  -----------  ------  ------  ------  -------  -------  -------  ------\n",
            "  0       0          0.00    334.18         0.00    0.00    0.00    0.00     0.00     0.00     0.00    0.00\n",
            "200     200          0.00   3270.99         0.00  100.00  100.00  100.00     0.00     0.00     0.00    0.50\n",
            "400     400          0.00      2.77         0.00  100.00  100.00  100.00     0.00     0.00     0.00    0.50\n",
            "600     600          0.00      7.31         0.00  100.00  100.00  100.00     0.00     0.00     0.00    0.50\n",
            "800     800          0.00      0.71         0.00  100.00  100.00  100.00     0.00     0.00     0.00    0.50\n",
            "1000    1000          0.00      4.32         0.00  100.00  100.00  100.00     0.00     0.00     0.00    0.50\n",
            "1200    1200          0.00      6.64         0.00  100.00  100.00  100.00     0.00     0.00     0.00    0.50\n",
            "1400    1400          0.00      8.84         0.00  100.00  100.00  100.00     0.00     0.00     0.00    0.50\n",
            "1600    1600          0.00      4.04         0.00  100.00  100.00  100.00     0.00     0.00     0.00    0.50\n",
            "1800    1800          0.00      7.31         0.00  100.00  100.00  100.00     0.00     0.00     0.00    0.50\n",
            "\u001b[38;5;2m✔ Saved pipeline to output directory\u001b[0m\n",
            "coursTAL/2022/model-last\n"
          ]
        }
      ]
    },
    {
      "cell_type": "markdown",
      "source": [
        "**7. Test du nouveau modèle sur un autre extrait de \"Bel Ami\" de Maupassant**"
      ],
      "metadata": {
        "id": "xC6yamR4I8Av"
      }
    },
    {
      "cell_type": "code",
      "source": [
        "nlp_ner = spacy.load(\"model-best\")\n",
        "\n",
        "test_dataset = open(\"coursTAL/2022/belAmi_01-05.txt\").read().replace(\"’\",\"'\")\n",
        "doc = nlp_ner(test_dataset)\n",
        "\n",
        "colors = {\"PER\": \"#F67DE3\", \"LOC\": \"#7DF6D9\", \"MISC\" : \"#FFFFFF\"}\n",
        "options = {\"colors\": colors} \n",
        "\n",
        "show_ents(doc)\n",
        "\n",
        "#spacy.displacy.render(doc, style=\"ent\", options= options, jupyter=True)"
      ],
      "metadata": {
        "id": "WIboT-raIcVn"
      },
      "execution_count": null,
      "outputs": []
    },
    {
      "cell_type": "markdown",
      "source": [
        "**A titre de comparaison, test avec ce même texte mais à partir du modèle de base fourni par Spacy, fr_core_news_sm.**"
      ],
      "metadata": {
        "id": "J__jlCB0JEh1"
      }
    },
    {
      "cell_type": "code",
      "source": [
        "pipeline = 'fr_core_news_sm' \n",
        "nlp = spacy.load(pipeline)\n",
        "doc = nlp(test_dataset)\n",
        "show_ents(doc)"
      ],
      "metadata": {
        "id": "tco1K5ndJUF9"
      },
      "execution_count": null,
      "outputs": []
    },
    {
      "cell_type": "markdown",
      "source": [
        "Remarque 1. lors de la mise à jour du modèle NER (idem pour d'autres couches comme POS) avec les annotations de l'utilisateur, un processus itératif se met en place afin de faire converger les prédictions faites (des poids) vers des valeurs optimales vis-à-vis des annotations de référence. A caque itération, on calcule le \"gradient\" qui correspond, en optimisation, aux dérivées partielles de la fonction de classification non linéaire recherchée (voir [1], vous trouverez aussi la notion de backpropagation clé dans ces approches de DL pour le TAL). Pour observer la manière dont la valeur du gradient évolue (et se stabilise) lors des itérations, il est conseillé de regarder le paramètre \"losses\" mis à jour par la méthode update(..., losses=losses).\n",
        "[1]: https://web.stanford.edu/class/archive/cs/cs224n/cs224n.1162/handouts/CS224N_DeepNLP_Week7_lecture3.pdf \n",
        "Aussi : https://spacy.io/usage/training\n",
        "\n",
        "Remarque 2. Pour éviter le surapprentissage (overfitting) d'un modèle : vous pouvez identifier que votre modèle n'est pas bon lorsqu'il fonctionne bien sur les données d'entraînement mais ne donne pas de bons résultats sur des données nouvelles et non encore vues. Autrement dit, le modèle \"mémorise\" les données d'apprentissage et n'est pas performant avec les nouvelles données."
      ],
      "metadata": {
        "id": "2A40a-xmOa9J"
      }
    }
  ]
}